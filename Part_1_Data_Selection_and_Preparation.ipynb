{
 "cells": [
  {
   "cell_type": "code",
   "execution_count": 12,
   "metadata": {},
   "outputs": [],
   "source": [
    "import json\n",
    "import pandas as pd\n",
    "\n",
    "def parse_article_data(file_path):\n",
    "    article_list = []\n",
    "\n",
    "    with open(file_path, \"r\") as file:\n",
    "        for line in file:\n",
    "            data = json.loads(line)\n",
    "            article_id = data[\"id\"]\n",
    "\n",
    "            article_list.append(\n",
    "                {\n",
    "                    \"ID\": article_id,\n",
    "                    \"title\": data[\"title\"],\n",
    "                    \"categories\": data[\"categories\"],\n",
    "                    \"versions\": data[\"versions\"],\n",
    "                }\n",
    "            )\n",
    "\n",
    "    return article_list\n",
    "\n",
    "\n",
    "def create_article_dataframe(article_data_list):\n",
    "    return pd.DataFrame.from_records(article_data_list)\n",
    "\n",
    "\n",
    "# Usage example\n",
    "file_path = \"arxiv-metadata-oai-snapshot.json\"\n",
    "article_data = parse_article_data(file_path)\n",
    "article_df = create_article_dataframe(article_data)"
   ]
  },
  {
   "cell_type": "code",
   "execution_count": 13,
   "metadata": {},
   "outputs": [
    {
     "data": {
      "text/html": [
       "<div>\n",
       "<style scoped>\n",
       "    .dataframe tbody tr th:only-of-type {\n",
       "        vertical-align: middle;\n",
       "    }\n",
       "\n",
       "    .dataframe tbody tr th {\n",
       "        vertical-align: top;\n",
       "    }\n",
       "\n",
       "    .dataframe thead th {\n",
       "        text-align: right;\n",
       "    }\n",
       "</style>\n",
       "<table border=\"1\" class=\"dataframe\">\n",
       "  <thead>\n",
       "    <tr style=\"text-align: right;\">\n",
       "      <th></th>\n",
       "      <th>ID</th>\n",
       "      <th>title</th>\n",
       "      <th>categories</th>\n",
       "      <th>versions</th>\n",
       "    </tr>\n",
       "  </thead>\n",
       "  <tbody>\n",
       "    <tr>\n",
       "      <th>0</th>\n",
       "      <td>0704.0001</td>\n",
       "      <td>Calculation of prompt diphoton production cros...</td>\n",
       "      <td>hep-ph</td>\n",
       "      <td>[{'version': 'v1', 'created': 'Mon, 2 Apr 2007...</td>\n",
       "    </tr>\n",
       "    <tr>\n",
       "      <th>1</th>\n",
       "      <td>0704.0002</td>\n",
       "      <td>Sparsity-certifying Graph Decompositions</td>\n",
       "      <td>math.CO cs.CG</td>\n",
       "      <td>[{'version': 'v1', 'created': 'Sat, 31 Mar 200...</td>\n",
       "    </tr>\n",
       "    <tr>\n",
       "      <th>2</th>\n",
       "      <td>0704.0003</td>\n",
       "      <td>The evolution of the Earth-Moon system based o...</td>\n",
       "      <td>physics.gen-ph</td>\n",
       "      <td>[{'version': 'v1', 'created': 'Sun, 1 Apr 2007...</td>\n",
       "    </tr>\n",
       "    <tr>\n",
       "      <th>3</th>\n",
       "      <td>0704.0004</td>\n",
       "      <td>A determinant of Stirling cycle numbers counts...</td>\n",
       "      <td>math.CO</td>\n",
       "      <td>[{'version': 'v1', 'created': 'Sat, 31 Mar 200...</td>\n",
       "    </tr>\n",
       "    <tr>\n",
       "      <th>4</th>\n",
       "      <td>0704.0005</td>\n",
       "      <td>From dyadic $\\Lambda_{\\alpha}$ to $\\Lambda_{\\a...</td>\n",
       "      <td>math.CA math.FA</td>\n",
       "      <td>[{'version': 'v1', 'created': 'Mon, 2 Apr 2007...</td>\n",
       "    </tr>\n",
       "    <tr>\n",
       "      <th>5</th>\n",
       "      <td>0704.0006</td>\n",
       "      <td>Bosonic characters of atomic Cooper pairs acro...</td>\n",
       "      <td>cond-mat.mes-hall</td>\n",
       "      <td>[{'version': 'v1', 'created': 'Sat, 31 Mar 200...</td>\n",
       "    </tr>\n",
       "    <tr>\n",
       "      <th>6</th>\n",
       "      <td>0704.0007</td>\n",
       "      <td>Polymer Quantum Mechanics and its Continuum Limit</td>\n",
       "      <td>gr-qc</td>\n",
       "      <td>[{'version': 'v1', 'created': 'Sat, 31 Mar 200...</td>\n",
       "    </tr>\n",
       "    <tr>\n",
       "      <th>7</th>\n",
       "      <td>0704.0008</td>\n",
       "      <td>Numerical solution of shock and ramp compressi...</td>\n",
       "      <td>cond-mat.mtrl-sci</td>\n",
       "      <td>[{'version': 'v1', 'created': 'Sat, 31 Mar 200...</td>\n",
       "    </tr>\n",
       "    <tr>\n",
       "      <th>8</th>\n",
       "      <td>0704.0009</td>\n",
       "      <td>The Spitzer c2d Survey of Large, Nearby, Inste...</td>\n",
       "      <td>astro-ph</td>\n",
       "      <td>[{'version': 'v1', 'created': 'Mon, 2 Apr 2007...</td>\n",
       "    </tr>\n",
       "    <tr>\n",
       "      <th>9</th>\n",
       "      <td>0704.0010</td>\n",
       "      <td>Partial cubes: structures, characterizations, ...</td>\n",
       "      <td>math.CO</td>\n",
       "      <td>[{'version': 'v1', 'created': 'Sat, 31 Mar 200...</td>\n",
       "    </tr>\n",
       "  </tbody>\n",
       "</table>\n",
       "</div>"
      ],
      "text/plain": [
       "          ID                                              title  \\\n",
       "0  0704.0001  Calculation of prompt diphoton production cros...   \n",
       "1  0704.0002           Sparsity-certifying Graph Decompositions   \n",
       "2  0704.0003  The evolution of the Earth-Moon system based o...   \n",
       "3  0704.0004  A determinant of Stirling cycle numbers counts...   \n",
       "4  0704.0005  From dyadic $\\Lambda_{\\alpha}$ to $\\Lambda_{\\a...   \n",
       "5  0704.0006  Bosonic characters of atomic Cooper pairs acro...   \n",
       "6  0704.0007  Polymer Quantum Mechanics and its Continuum Limit   \n",
       "7  0704.0008  Numerical solution of shock and ramp compressi...   \n",
       "8  0704.0009  The Spitzer c2d Survey of Large, Nearby, Inste...   \n",
       "9  0704.0010  Partial cubes: structures, characterizations, ...   \n",
       "\n",
       "          categories                                           versions  \n",
       "0             hep-ph  [{'version': 'v1', 'created': 'Mon, 2 Apr 2007...  \n",
       "1      math.CO cs.CG  [{'version': 'v1', 'created': 'Sat, 31 Mar 200...  \n",
       "2     physics.gen-ph  [{'version': 'v1', 'created': 'Sun, 1 Apr 2007...  \n",
       "3            math.CO  [{'version': 'v1', 'created': 'Sat, 31 Mar 200...  \n",
       "4    math.CA math.FA  [{'version': 'v1', 'created': 'Mon, 2 Apr 2007...  \n",
       "5  cond-mat.mes-hall  [{'version': 'v1', 'created': 'Sat, 31 Mar 200...  \n",
       "6              gr-qc  [{'version': 'v1', 'created': 'Sat, 31 Mar 200...  \n",
       "7  cond-mat.mtrl-sci  [{'version': 'v1', 'created': 'Sat, 31 Mar 200...  \n",
       "8           astro-ph  [{'version': 'v1', 'created': 'Mon, 2 Apr 2007...  \n",
       "9            math.CO  [{'version': 'v1', 'created': 'Sat, 31 Mar 200...  "
      ]
     },
     "execution_count": 13,
     "metadata": {},
     "output_type": "execute_result"
    }
   ],
   "source": [
    "article_df.head(10)"
   ]
  },
  {
   "cell_type": "code",
   "execution_count": 14,
   "metadata": {},
   "outputs": [
    {
     "name": "stderr",
     "output_type": "stream",
     "text": [
      "/Users/tapetrova/miniconda3/envs/tensorflow/lib/python3.6/site-packages/pandas/core/frame.py:3069: SettingWithCopyWarning:\n",
      "\n",
      "\n",
      "A value is trying to be set on a copy of a slice from a DataFrame.\n",
      "Try using .loc[row_indexer,col_indexer] = value instead\n",
      "\n",
      "See the caveats in the documentation: https://pandas.pydata.org/pandas-docs/stable/user_guide/indexing.html#returning-a-view-versus-a-copy\n",
      "\n",
      "/Users/tapetrova/miniconda3/envs/tensorflow/lib/python3.6/site-packages/ipykernel_launcher.py:10: SettingWithCopyWarning:\n",
      "\n",
      "\n",
      "A value is trying to be set on a copy of a slice from a DataFrame.\n",
      "Try using .loc[row_indexer,col_indexer] = value instead\n",
      "\n",
      "See the caveats in the documentation: https://pandas.pydata.org/pandas-docs/stable/user_guide/indexing.html#returning-a-view-versus-a-copy\n",
      "\n"
     ]
    }
   ],
   "source": [
    "def filter_cs_articles(article_df: pd.DataFrame, start_year: int, end_year: int) -> pd.DataFrame:\n",
    "    cs_articles = article_df[article_df['categories'].str.contains('^cs', regex=True)]\n",
    "\n",
    "    # Extract the version and created date for the first version\n",
    "    cs_articles[['version', 'created']] = cs_articles['versions'].apply(\n",
    "        lambda x: pd.Series([x[0]['version'], x[0]['created']])\n",
    "    )\n",
    "\n",
    "    cs_articles['year'] = pd.to_datetime(\n",
    "        cs_articles['created'], format='%a, %d %b %Y %H:%M:%S GMT'\n",
    "    ).dt.year\n",
    "\n",
    "    cs_articles = cs_articles[\n",
    "        (cs_articles[\"year\"] >= start_year) & (cs_articles[\"year\"] <= end_year)\n",
    "    ]\n",
    "\n",
    "    cs_articles = cs_articles.drop(\n",
    "        columns=[\"versions\", \"version\", \"created\"], axis=1\n",
    "    )\n",
    "\n",
    "    return cs_articles\n",
    "\n",
    "cs_articles = filter_cs_articles(article_df, 2018, 2022)"
   ]
  },
  {
   "cell_type": "code",
   "execution_count": 15,
   "metadata": {},
   "outputs": [
    {
     "data": {
      "text/html": [
       "<div>\n",
       "<style scoped>\n",
       "    .dataframe tbody tr th:only-of-type {\n",
       "        vertical-align: middle;\n",
       "    }\n",
       "\n",
       "    .dataframe tbody tr th {\n",
       "        vertical-align: top;\n",
       "    }\n",
       "\n",
       "    .dataframe thead th {\n",
       "        text-align: right;\n",
       "    }\n",
       "</style>\n",
       "<table border=\"1\" class=\"dataframe\">\n",
       "  <thead>\n",
       "    <tr style=\"text-align: right;\">\n",
       "      <th></th>\n",
       "      <th>ID</th>\n",
       "      <th>title</th>\n",
       "      <th>categories</th>\n",
       "      <th>year</th>\n",
       "    </tr>\n",
       "  </thead>\n",
       "  <tbody>\n",
       "    <tr>\n",
       "      <th>929308</th>\n",
       "      <td>1801.00377</td>\n",
       "      <td>Help Me Find a Job: A Graph-based Approach for...</td>\n",
       "      <td>cs.IR cs.SI</td>\n",
       "      <td>2018</td>\n",
       "    </tr>\n",
       "    <tr>\n",
       "      <th>929315</th>\n",
       "      <td>1801.00384</td>\n",
       "      <td>Error-Robust Multi-View Clustering</td>\n",
       "      <td>cs.LG</td>\n",
       "      <td>2018</td>\n",
       "    </tr>\n",
       "    <tr>\n",
       "      <th>929316</th>\n",
       "      <td>1801.00385</td>\n",
       "      <td>Interactive Co-Design of Form and Function for...</td>\n",
       "      <td>cs.RO</td>\n",
       "      <td>2018</td>\n",
       "    </tr>\n",
       "    <tr>\n",
       "      <th>929318</th>\n",
       "      <td>1801.00387</td>\n",
       "      <td>Diversity Analysis of Millimeter-Wave Massive ...</td>\n",
       "      <td>cs.IT math.IT</td>\n",
       "      <td>2018</td>\n",
       "    </tr>\n",
       "    <tr>\n",
       "      <th>929319</th>\n",
       "      <td>1801.00388</td>\n",
       "      <td>Beyond Word Embeddings: Learning Entity and Co...</td>\n",
       "      <td>cs.CL cs.AI cs.IR cs.SI</td>\n",
       "      <td>2018</td>\n",
       "    </tr>\n",
       "  </tbody>\n",
       "</table>\n",
       "</div>"
      ],
      "text/plain": [
       "                ID                                              title  \\\n",
       "929308  1801.00377  Help Me Find a Job: A Graph-based Approach for...   \n",
       "929315  1801.00384                 Error-Robust Multi-View Clustering   \n",
       "929316  1801.00385  Interactive Co-Design of Form and Function for...   \n",
       "929318  1801.00387  Diversity Analysis of Millimeter-Wave Massive ...   \n",
       "929319  1801.00388  Beyond Word Embeddings: Learning Entity and Co...   \n",
       "\n",
       "                     categories  year  \n",
       "929308              cs.IR cs.SI  2018  \n",
       "929315                    cs.LG  2018  \n",
       "929316                    cs.RO  2018  \n",
       "929318            cs.IT math.IT  2018  \n",
       "929319  cs.CL cs.AI cs.IR cs.SI  2018  "
      ]
     },
     "execution_count": 15,
     "metadata": {},
     "output_type": "execute_result"
    }
   ],
   "source": [
    "cs_articles.head()"
   ]
  },
  {
   "cell_type": "code",
   "execution_count": 16,
   "metadata": {},
   "outputs": [
    {
     "name": "stdout",
     "output_type": "stream",
     "text": [
      "<class 'pandas.core.frame.DataFrame'>\n",
      "Int64Index: 259577 entries, 929308 to 1795204\n",
      "Data columns (total 4 columns):\n",
      " #   Column      Non-Null Count   Dtype \n",
      "---  ------      --------------   ----- \n",
      " 0   ID          259577 non-null  object\n",
      " 1   title       259577 non-null  object\n",
      " 2   categories  259577 non-null  object\n",
      " 3   year        259577 non-null  int64 \n",
      "dtypes: int64(1), object(3)\n",
      "memory usage: 9.9+ MB\n"
     ]
    }
   ],
   "source": [
    "cs_articles.info()"
   ]
  },
  {
   "cell_type": "code",
   "execution_count": 18,
   "metadata": {},
   "outputs": [
    {
     "data": {
      "application/vnd.plotly.v1+json": {
       "config": {
        "plotlyServerURL": "https://plotly.com"
       },
       "data": [
        {
         "alignmentgroup": "True",
         "hovertemplate": "x=%{x}<br>y=%{y}<br>color=%{marker.color}<extra></extra>",
         "legendgroup": "",
         "marker": {
          "color": [
           2018,
           2019,
           2020,
           2021,
           2022
          ],
          "coloraxis": "coloraxis",
          "pattern": {
           "shape": ""
          }
         },
         "name": "",
         "offsetgroup": "",
         "orientation": "v",
         "showlegend": false,
         "textposition": "auto",
         "type": "bar",
         "x": [
          2018,
          2019,
          2020,
          2021,
          2022
         ],
         "xaxis": "x",
         "y": [
          35876,
          43927,
          54149,
          60971,
          64654
         ],
         "yaxis": "y"
        }
       ],
       "layout": {
        "barmode": "relative",
        "coloraxis": {
         "colorbar": {
          "title": {
           "text": "color"
          }
         },
         "colorscale": [
          [
           0,
           "#0d0887"
          ],
          [
           0.1111111111111111,
           "#46039f"
          ],
          [
           0.2222222222222222,
           "#7201a8"
          ],
          [
           0.3333333333333333,
           "#9c179e"
          ],
          [
           0.4444444444444444,
           "#bd3786"
          ],
          [
           0.5555555555555556,
           "#d8576b"
          ],
          [
           0.6666666666666666,
           "#ed7953"
          ],
          [
           0.7777777777777778,
           "#fb9f3a"
          ],
          [
           0.8888888888888888,
           "#fdca26"
          ],
          [
           1,
           "#f0f921"
          ]
         ]
        },
        "legend": {
         "tracegroupgap": 0
        },
        "template": {
         "data": {
          "bar": [
           {
            "error_x": {
             "color": "#2a3f5f"
            },
            "error_y": {
             "color": "#2a3f5f"
            },
            "marker": {
             "line": {
              "color": "#E5ECF6",
              "width": 0.5
             },
             "pattern": {
              "fillmode": "overlay",
              "size": 10,
              "solidity": 0.2
             }
            },
            "type": "bar"
           }
          ],
          "barpolar": [
           {
            "marker": {
             "line": {
              "color": "#E5ECF6",
              "width": 0.5
             },
             "pattern": {
              "fillmode": "overlay",
              "size": 10,
              "solidity": 0.2
             }
            },
            "type": "barpolar"
           }
          ],
          "carpet": [
           {
            "aaxis": {
             "endlinecolor": "#2a3f5f",
             "gridcolor": "white",
             "linecolor": "white",
             "minorgridcolor": "white",
             "startlinecolor": "#2a3f5f"
            },
            "baxis": {
             "endlinecolor": "#2a3f5f",
             "gridcolor": "white",
             "linecolor": "white",
             "minorgridcolor": "white",
             "startlinecolor": "#2a3f5f"
            },
            "type": "carpet"
           }
          ],
          "choropleth": [
           {
            "colorbar": {
             "outlinewidth": 0,
             "ticks": ""
            },
            "type": "choropleth"
           }
          ],
          "contour": [
           {
            "colorbar": {
             "outlinewidth": 0,
             "ticks": ""
            },
            "colorscale": [
             [
              0,
              "#0d0887"
             ],
             [
              0.1111111111111111,
              "#46039f"
             ],
             [
              0.2222222222222222,
              "#7201a8"
             ],
             [
              0.3333333333333333,
              "#9c179e"
             ],
             [
              0.4444444444444444,
              "#bd3786"
             ],
             [
              0.5555555555555556,
              "#d8576b"
             ],
             [
              0.6666666666666666,
              "#ed7953"
             ],
             [
              0.7777777777777778,
              "#fb9f3a"
             ],
             [
              0.8888888888888888,
              "#fdca26"
             ],
             [
              1,
              "#f0f921"
             ]
            ],
            "type": "contour"
           }
          ],
          "contourcarpet": [
           {
            "colorbar": {
             "outlinewidth": 0,
             "ticks": ""
            },
            "type": "contourcarpet"
           }
          ],
          "heatmap": [
           {
            "colorbar": {
             "outlinewidth": 0,
             "ticks": ""
            },
            "colorscale": [
             [
              0,
              "#0d0887"
             ],
             [
              0.1111111111111111,
              "#46039f"
             ],
             [
              0.2222222222222222,
              "#7201a8"
             ],
             [
              0.3333333333333333,
              "#9c179e"
             ],
             [
              0.4444444444444444,
              "#bd3786"
             ],
             [
              0.5555555555555556,
              "#d8576b"
             ],
             [
              0.6666666666666666,
              "#ed7953"
             ],
             [
              0.7777777777777778,
              "#fb9f3a"
             ],
             [
              0.8888888888888888,
              "#fdca26"
             ],
             [
              1,
              "#f0f921"
             ]
            ],
            "type": "heatmap"
           }
          ],
          "heatmapgl": [
           {
            "colorbar": {
             "outlinewidth": 0,
             "ticks": ""
            },
            "colorscale": [
             [
              0,
              "#0d0887"
             ],
             [
              0.1111111111111111,
              "#46039f"
             ],
             [
              0.2222222222222222,
              "#7201a8"
             ],
             [
              0.3333333333333333,
              "#9c179e"
             ],
             [
              0.4444444444444444,
              "#bd3786"
             ],
             [
              0.5555555555555556,
              "#d8576b"
             ],
             [
              0.6666666666666666,
              "#ed7953"
             ],
             [
              0.7777777777777778,
              "#fb9f3a"
             ],
             [
              0.8888888888888888,
              "#fdca26"
             ],
             [
              1,
              "#f0f921"
             ]
            ],
            "type": "heatmapgl"
           }
          ],
          "histogram": [
           {
            "marker": {
             "pattern": {
              "fillmode": "overlay",
              "size": 10,
              "solidity": 0.2
             }
            },
            "type": "histogram"
           }
          ],
          "histogram2d": [
           {
            "colorbar": {
             "outlinewidth": 0,
             "ticks": ""
            },
            "colorscale": [
             [
              0,
              "#0d0887"
             ],
             [
              0.1111111111111111,
              "#46039f"
             ],
             [
              0.2222222222222222,
              "#7201a8"
             ],
             [
              0.3333333333333333,
              "#9c179e"
             ],
             [
              0.4444444444444444,
              "#bd3786"
             ],
             [
              0.5555555555555556,
              "#d8576b"
             ],
             [
              0.6666666666666666,
              "#ed7953"
             ],
             [
              0.7777777777777778,
              "#fb9f3a"
             ],
             [
              0.8888888888888888,
              "#fdca26"
             ],
             [
              1,
              "#f0f921"
             ]
            ],
            "type": "histogram2d"
           }
          ],
          "histogram2dcontour": [
           {
            "colorbar": {
             "outlinewidth": 0,
             "ticks": ""
            },
            "colorscale": [
             [
              0,
              "#0d0887"
             ],
             [
              0.1111111111111111,
              "#46039f"
             ],
             [
              0.2222222222222222,
              "#7201a8"
             ],
             [
              0.3333333333333333,
              "#9c179e"
             ],
             [
              0.4444444444444444,
              "#bd3786"
             ],
             [
              0.5555555555555556,
              "#d8576b"
             ],
             [
              0.6666666666666666,
              "#ed7953"
             ],
             [
              0.7777777777777778,
              "#fb9f3a"
             ],
             [
              0.8888888888888888,
              "#fdca26"
             ],
             [
              1,
              "#f0f921"
             ]
            ],
            "type": "histogram2dcontour"
           }
          ],
          "mesh3d": [
           {
            "colorbar": {
             "outlinewidth": 0,
             "ticks": ""
            },
            "type": "mesh3d"
           }
          ],
          "parcoords": [
           {
            "line": {
             "colorbar": {
              "outlinewidth": 0,
              "ticks": ""
             }
            },
            "type": "parcoords"
           }
          ],
          "pie": [
           {
            "automargin": true,
            "type": "pie"
           }
          ],
          "scatter": [
           {
            "fillpattern": {
             "fillmode": "overlay",
             "size": 10,
             "solidity": 0.2
            },
            "type": "scatter"
           }
          ],
          "scatter3d": [
           {
            "line": {
             "colorbar": {
              "outlinewidth": 0,
              "ticks": ""
             }
            },
            "marker": {
             "colorbar": {
              "outlinewidth": 0,
              "ticks": ""
             }
            },
            "type": "scatter3d"
           }
          ],
          "scattercarpet": [
           {
            "marker": {
             "colorbar": {
              "outlinewidth": 0,
              "ticks": ""
             }
            },
            "type": "scattercarpet"
           }
          ],
          "scattergeo": [
           {
            "marker": {
             "colorbar": {
              "outlinewidth": 0,
              "ticks": ""
             }
            },
            "type": "scattergeo"
           }
          ],
          "scattergl": [
           {
            "marker": {
             "colorbar": {
              "outlinewidth": 0,
              "ticks": ""
             }
            },
            "type": "scattergl"
           }
          ],
          "scattermapbox": [
           {
            "marker": {
             "colorbar": {
              "outlinewidth": 0,
              "ticks": ""
             }
            },
            "type": "scattermapbox"
           }
          ],
          "scatterpolar": [
           {
            "marker": {
             "colorbar": {
              "outlinewidth": 0,
              "ticks": ""
             }
            },
            "type": "scatterpolar"
           }
          ],
          "scatterpolargl": [
           {
            "marker": {
             "colorbar": {
              "outlinewidth": 0,
              "ticks": ""
             }
            },
            "type": "scatterpolargl"
           }
          ],
          "scatterternary": [
           {
            "marker": {
             "colorbar": {
              "outlinewidth": 0,
              "ticks": ""
             }
            },
            "type": "scatterternary"
           }
          ],
          "surface": [
           {
            "colorbar": {
             "outlinewidth": 0,
             "ticks": ""
            },
            "colorscale": [
             [
              0,
              "#0d0887"
             ],
             [
              0.1111111111111111,
              "#46039f"
             ],
             [
              0.2222222222222222,
              "#7201a8"
             ],
             [
              0.3333333333333333,
              "#9c179e"
             ],
             [
              0.4444444444444444,
              "#bd3786"
             ],
             [
              0.5555555555555556,
              "#d8576b"
             ],
             [
              0.6666666666666666,
              "#ed7953"
             ],
             [
              0.7777777777777778,
              "#fb9f3a"
             ],
             [
              0.8888888888888888,
              "#fdca26"
             ],
             [
              1,
              "#f0f921"
             ]
            ],
            "type": "surface"
           }
          ],
          "table": [
           {
            "cells": {
             "fill": {
              "color": "#EBF0F8"
             },
             "line": {
              "color": "white"
             }
            },
            "header": {
             "fill": {
              "color": "#C8D4E3"
             },
             "line": {
              "color": "white"
             }
            },
            "type": "table"
           }
          ]
         },
         "layout": {
          "annotationdefaults": {
           "arrowcolor": "#2a3f5f",
           "arrowhead": 0,
           "arrowwidth": 1
          },
          "autotypenumbers": "strict",
          "coloraxis": {
           "colorbar": {
            "outlinewidth": 0,
            "ticks": ""
           }
          },
          "colorscale": {
           "diverging": [
            [
             0,
             "#8e0152"
            ],
            [
             0.1,
             "#c51b7d"
            ],
            [
             0.2,
             "#de77ae"
            ],
            [
             0.3,
             "#f1b6da"
            ],
            [
             0.4,
             "#fde0ef"
            ],
            [
             0.5,
             "#f7f7f7"
            ],
            [
             0.6,
             "#e6f5d0"
            ],
            [
             0.7,
             "#b8e186"
            ],
            [
             0.8,
             "#7fbc41"
            ],
            [
             0.9,
             "#4d9221"
            ],
            [
             1,
             "#276419"
            ]
           ],
           "sequential": [
            [
             0,
             "#0d0887"
            ],
            [
             0.1111111111111111,
             "#46039f"
            ],
            [
             0.2222222222222222,
             "#7201a8"
            ],
            [
             0.3333333333333333,
             "#9c179e"
            ],
            [
             0.4444444444444444,
             "#bd3786"
            ],
            [
             0.5555555555555556,
             "#d8576b"
            ],
            [
             0.6666666666666666,
             "#ed7953"
            ],
            [
             0.7777777777777778,
             "#fb9f3a"
            ],
            [
             0.8888888888888888,
             "#fdca26"
            ],
            [
             1,
             "#f0f921"
            ]
           ],
           "sequentialminus": [
            [
             0,
             "#0d0887"
            ],
            [
             0.1111111111111111,
             "#46039f"
            ],
            [
             0.2222222222222222,
             "#7201a8"
            ],
            [
             0.3333333333333333,
             "#9c179e"
            ],
            [
             0.4444444444444444,
             "#bd3786"
            ],
            [
             0.5555555555555556,
             "#d8576b"
            ],
            [
             0.6666666666666666,
             "#ed7953"
            ],
            [
             0.7777777777777778,
             "#fb9f3a"
            ],
            [
             0.8888888888888888,
             "#fdca26"
            ],
            [
             1,
             "#f0f921"
            ]
           ]
          },
          "colorway": [
           "#636efa",
           "#EF553B",
           "#00cc96",
           "#ab63fa",
           "#FFA15A",
           "#19d3f3",
           "#FF6692",
           "#B6E880",
           "#FF97FF",
           "#FECB52"
          ],
          "font": {
           "color": "#2a3f5f"
          },
          "geo": {
           "bgcolor": "white",
           "lakecolor": "white",
           "landcolor": "#E5ECF6",
           "showlakes": true,
           "showland": true,
           "subunitcolor": "white"
          },
          "hoverlabel": {
           "align": "left"
          },
          "hovermode": "closest",
          "mapbox": {
           "style": "light"
          },
          "paper_bgcolor": "white",
          "plot_bgcolor": "#E5ECF6",
          "polar": {
           "angularaxis": {
            "gridcolor": "white",
            "linecolor": "white",
            "ticks": ""
           },
           "bgcolor": "#E5ECF6",
           "radialaxis": {
            "gridcolor": "white",
            "linecolor": "white",
            "ticks": ""
           }
          },
          "scene": {
           "xaxis": {
            "backgroundcolor": "#E5ECF6",
            "gridcolor": "white",
            "gridwidth": 2,
            "linecolor": "white",
            "showbackground": true,
            "ticks": "",
            "zerolinecolor": "white"
           },
           "yaxis": {
            "backgroundcolor": "#E5ECF6",
            "gridcolor": "white",
            "gridwidth": 2,
            "linecolor": "white",
            "showbackground": true,
            "ticks": "",
            "zerolinecolor": "white"
           },
           "zaxis": {
            "backgroundcolor": "#E5ECF6",
            "gridcolor": "white",
            "gridwidth": 2,
            "linecolor": "white",
            "showbackground": true,
            "ticks": "",
            "zerolinecolor": "white"
           }
          },
          "shapedefaults": {
           "line": {
            "color": "#2a3f5f"
           }
          },
          "ternary": {
           "aaxis": {
            "gridcolor": "white",
            "linecolor": "white",
            "ticks": ""
           },
           "baxis": {
            "gridcolor": "white",
            "linecolor": "white",
            "ticks": ""
           },
           "bgcolor": "#E5ECF6",
           "caxis": {
            "gridcolor": "white",
            "linecolor": "white",
            "ticks": ""
           }
          },
          "title": {
           "x": 0.05
          },
          "xaxis": {
           "automargin": true,
           "gridcolor": "white",
           "linecolor": "white",
           "ticks": "",
           "title": {
            "standoff": 15
           },
           "zerolinecolor": "white",
           "zerolinewidth": 2
          },
          "yaxis": {
           "automargin": true,
           "gridcolor": "white",
           "linecolor": "white",
           "ticks": "",
           "title": {
            "standoff": 15
           },
           "zerolinecolor": "white",
           "zerolinewidth": 2
          }
         }
        },
        "title": {
         "font": {
          "family": "Helvetica",
          "size": 16
         },
         "text": "Number of Computer Science Articles on arXiv.org by Year"
        },
        "xaxis": {
         "anchor": "y",
         "domain": [
          0,
          1
         ],
         "tickfont": {
          "size": 12
         },
         "title": {
          "text": "Year"
         }
        },
        "yaxis": {
         "anchor": "x",
         "domain": [
          0,
          1
         ],
         "tickfont": {
          "size": 12
         },
         "title": {
          "text": "Number of Articles"
         }
        }
       }
      }
     },
     "metadata": {},
     "output_type": "display_data"
    }
   ],
   "source": [
    "import plotly.express as px\n",
    "\n",
    "# Count the number of articles by year\n",
    "year_counts = cs_articles['year'].value_counts()\n",
    "\n",
    "# Sort the counts by year\n",
    "year_counts = year_counts.sort_index()\n",
    "\n",
    "# Create a bar plot of the year counts\n",
    "fig = px.bar(\n",
    "    x=year_counts.index,\n",
    "    y=year_counts.values,\n",
    "    color=year_counts.index,\n",
    "    title='Number of Articles by Year'\n",
    ")\n",
    "\n",
    "# Set the x and y axis labels\n",
    "fig.update_xaxes(title_text='Year')\n",
    "fig.update_yaxes(title_text='Number of Articles')\n",
    "\n",
    "# Set the title of the plot\n",
    "fig.update_layout(\n",
    "    title={\n",
    "        'text': 'Number of Computer Science Articles on arXiv.org by Year',\n",
    "        'font': {'size': 16, 'family': 'Helvetica'}\n",
    "    }\n",
    ")\n",
    "\n",
    "# Set the x and y axis ticks font size\n",
    "fig.update_xaxes(tickfont=dict(size=12))\n",
    "fig.update_yaxes(tickfont=dict(size=12))\n",
    "\n",
    "# Show the plot\n",
    "fig.show()"
   ]
  },
  {
   "cell_type": "code",
   "execution_count": 29,
   "metadata": {},
   "outputs": [
    {
     "data": {
      "application/vnd.plotly.v1+json": {
       "config": {
        "plotlyServerURL": "https://plotly.com"
       },
       "data": [
        {
         "alignmentgroup": "True",
         "bingroup": "x",
         "histfunc": "sum",
         "hovertemplate": "Category=%{x}<br>Year=2022<br>sum of Number of Articles=%{y}<extra></extra>",
         "legendgroup": "cs.LG",
         "marker": {
          "color": "#636efa",
          "pattern": {
           "shape": ""
          }
         },
         "name": "cs.LG",
         "nbinsx": 18,
         "offsetgroup": "cs.LG",
         "orientation": "v",
         "showlegend": true,
         "type": "histogram",
         "x": [
          "cs.LG"
         ],
         "xaxis": "x",
         "y": [
          22778
         ],
         "yaxis": "y"
        },
        {
         "alignmentgroup": "True",
         "bingroup": "x",
         "histfunc": "sum",
         "hovertemplate": "Category=%{x}<br>Year=2022<br>sum of Number of Articles=%{y}<extra></extra>",
         "legendgroup": "cs.CV",
         "marker": {
          "color": "#EF553B",
          "pattern": {
           "shape": ""
          }
         },
         "name": "cs.CV",
         "nbinsx": 18,
         "offsetgroup": "cs.CV",
         "orientation": "v",
         "showlegend": true,
         "type": "histogram",
         "x": [
          "cs.CV"
         ],
         "xaxis": "x",
         "y": [
          17139
         ],
         "yaxis": "y"
        },
        {
         "alignmentgroup": "True",
         "bingroup": "x",
         "histfunc": "sum",
         "hovertemplate": "Category=%{x}<br>Year=2022<br>sum of Number of Articles=%{y}<extra></extra>",
         "legendgroup": "cs.AI",
         "marker": {
          "color": "#00cc96",
          "pattern": {
           "shape": ""
          }
         },
         "name": "cs.AI",
         "nbinsx": 18,
         "offsetgroup": "cs.AI",
         "orientation": "v",
         "showlegend": true,
         "type": "histogram",
         "x": [
          "cs.AI"
         ],
         "xaxis": "x",
         "y": [
          13621
         ],
         "yaxis": "y"
        },
        {
         "alignmentgroup": "True",
         "bingroup": "x",
         "histfunc": "sum",
         "hovertemplate": "Category=%{x}<br>Year=2022<br>sum of Number of Articles=%{y}<extra></extra>",
         "legendgroup": "cs.CL",
         "marker": {
          "color": "#ab63fa",
          "pattern": {
           "shape": ""
          }
         },
         "name": "cs.CL",
         "nbinsx": 18,
         "offsetgroup": "cs.CL",
         "orientation": "v",
         "showlegend": true,
         "type": "histogram",
         "x": [
          "cs.CL"
         ],
         "xaxis": "x",
         "y": [
          8704
         ],
         "yaxis": "y"
        },
        {
         "alignmentgroup": "True",
         "bingroup": "x",
         "histfunc": "sum",
         "hovertemplate": "Category=%{x}<br>Year=2022<br>sum of Number of Articles=%{y}<extra></extra>",
         "legendgroup": "cs.RO",
         "marker": {
          "color": "#FFA15A",
          "pattern": {
           "shape": ""
          }
         },
         "name": "cs.RO",
         "nbinsx": 18,
         "offsetgroup": "cs.RO",
         "orientation": "v",
         "showlegend": true,
         "type": "histogram",
         "x": [
          "cs.RO"
         ],
         "xaxis": "x",
         "y": [
          4998
         ],
         "yaxis": "y"
        },
        {
         "alignmentgroup": "True",
         "bingroup": "x",
         "histfunc": "sum",
         "hovertemplate": "Category=%{x}<br>Year=2022<br>sum of Number of Articles=%{y}<extra></extra>",
         "legendgroup": "cs.CR",
         "marker": {
          "color": "#19d3f3",
          "pattern": {
           "shape": ""
          }
         },
         "name": "cs.CR",
         "nbinsx": 18,
         "offsetgroup": "cs.CR",
         "orientation": "v",
         "showlegend": true,
         "type": "histogram",
         "x": [
          "cs.CR"
         ],
         "xaxis": "x",
         "y": [
          4262
         ],
         "yaxis": "y"
        },
        {
         "alignmentgroup": "True",
         "bingroup": "x",
         "histfunc": "sum",
         "hovertemplate": "Category=%{x}<br>Year=2022<br>sum of Number of Articles=%{y}<extra></extra>",
         "legendgroup": "math.IT",
         "marker": {
          "color": "#FF6692",
          "pattern": {
           "shape": ""
          }
         },
         "name": "math.IT",
         "nbinsx": 18,
         "offsetgroup": "math.IT",
         "orientation": "v",
         "showlegend": true,
         "type": "histogram",
         "x": [
          "math.IT"
         ],
         "xaxis": "x",
         "y": [
          2934
         ],
         "yaxis": "y"
        },
        {
         "alignmentgroup": "True",
         "bingroup": "x",
         "histfunc": "sum",
         "hovertemplate": "Category=%{x}<br>Year=2022<br>sum of Number of Articles=%{y}<extra></extra>",
         "legendgroup": "cs.IT",
         "marker": {
          "color": "#B6E880",
          "pattern": {
           "shape": ""
          }
         },
         "name": "cs.IT",
         "nbinsx": 18,
         "offsetgroup": "cs.IT",
         "orientation": "v",
         "showlegend": true,
         "type": "histogram",
         "x": [
          "cs.IT"
         ],
         "xaxis": "x",
         "y": [
          2934
         ],
         "yaxis": "y"
        },
        {
         "alignmentgroup": "True",
         "bingroup": "x",
         "histfunc": "sum",
         "hovertemplate": "Category=%{x}<br>Year=2022<br>sum of Number of Articles=%{y}<extra></extra>",
         "legendgroup": "stat.ML",
         "marker": {
          "color": "#FF97FF",
          "pattern": {
           "shape": ""
          }
         },
         "name": "stat.ML",
         "nbinsx": 18,
         "offsetgroup": "stat.ML",
         "orientation": "v",
         "showlegend": true,
         "type": "histogram",
         "x": [
          "stat.ML"
         ],
         "xaxis": "x",
         "y": [
          2425
         ],
         "yaxis": "y"
        },
        {
         "alignmentgroup": "True",
         "bingroup": "x",
         "histfunc": "sum",
         "hovertemplate": "Category=%{x}<br>Year=2022<br>sum of Number of Articles=%{y}<extra></extra>",
         "legendgroup": "cs.HC",
         "marker": {
          "color": "#FECB52",
          "pattern": {
           "shape": ""
          }
         },
         "name": "cs.HC",
         "nbinsx": 18,
         "offsetgroup": "cs.HC",
         "orientation": "v",
         "showlegend": true,
         "type": "histogram",
         "x": [
          "cs.HC"
         ],
         "xaxis": "x",
         "y": [
          2405
         ],
         "yaxis": "y"
        },
        {
         "alignmentgroup": "True",
         "bingroup": "x",
         "histfunc": "sum",
         "hovertemplate": "Category=%{x}<br>Year=2022<br>sum of Number of Articles=%{y}<extra></extra>",
         "legendgroup": "cs.CY",
         "marker": {
          "color": "#636efa",
          "pattern": {
           "shape": ""
          }
         },
         "name": "cs.CY",
         "nbinsx": 18,
         "offsetgroup": "cs.CY",
         "orientation": "v",
         "showlegend": true,
         "type": "histogram",
         "x": [
          "cs.CY"
         ],
         "xaxis": "x",
         "y": [
          2084
         ],
         "yaxis": "y"
        },
        {
         "alignmentgroup": "True",
         "bingroup": "x",
         "histfunc": "sum",
         "hovertemplate": "Category=%{x}<br>Year=2022<br>sum of Number of Articles=%{y}<extra></extra>",
         "legendgroup": "cs.IR",
         "marker": {
          "color": "#EF553B",
          "pattern": {
           "shape": ""
          }
         },
         "name": "cs.IR",
         "nbinsx": 18,
         "offsetgroup": "cs.IR",
         "orientation": "v",
         "showlegend": true,
         "type": "histogram",
         "x": [
          "cs.IR"
         ],
         "xaxis": "x",
         "y": [
          2082
         ],
         "yaxis": "y"
        },
        {
         "alignmentgroup": "True",
         "bingroup": "x",
         "histfunc": "sum",
         "hovertemplate": "Category=%{x}<br>Year=2022<br>sum of Number of Articles=%{y}<extra></extra>",
         "legendgroup": "cs.DC",
         "marker": {
          "color": "#00cc96",
          "pattern": {
           "shape": ""
          }
         },
         "name": "cs.DC",
         "nbinsx": 18,
         "offsetgroup": "cs.DC",
         "orientation": "v",
         "showlegend": true,
         "type": "histogram",
         "x": [
          "cs.DC"
         ],
         "xaxis": "x",
         "y": [
          2081
         ],
         "yaxis": "y"
        },
        {
         "alignmentgroup": "True",
         "bingroup": "x",
         "histfunc": "sum",
         "hovertemplate": "Category=%{x}<br>Year=2022<br>sum of Number of Articles=%{y}<extra></extra>",
         "legendgroup": "cs.SE",
         "marker": {
          "color": "#ab63fa",
          "pattern": {
           "shape": ""
          }
         },
         "name": "cs.SE",
         "nbinsx": 18,
         "offsetgroup": "cs.SE",
         "orientation": "v",
         "showlegend": true,
         "type": "histogram",
         "x": [
          "cs.SE"
         ],
         "xaxis": "x",
         "y": [
          1970
         ],
         "yaxis": "y"
        },
        {
         "alignmentgroup": "True",
         "bingroup": "x",
         "histfunc": "sum",
         "hovertemplate": "Category=%{x}<br>Year=2022<br>sum of Number of Articles=%{y}<extra></extra>",
         "legendgroup": "cs.NI",
         "marker": {
          "color": "#FFA15A",
          "pattern": {
           "shape": ""
          }
         },
         "name": "cs.NI",
         "nbinsx": 18,
         "offsetgroup": "cs.NI",
         "orientation": "v",
         "showlegend": true,
         "type": "histogram",
         "x": [
          "cs.NI"
         ],
         "xaxis": "x",
         "y": [
          1827
         ],
         "yaxis": "y"
        }
       ],
       "frames": [
        {
         "data": [
          {
           "alignmentgroup": "True",
           "bingroup": "x",
           "histfunc": "sum",
           "hovertemplate": "Category=%{x}<br>Year=2022<br>sum of Number of Articles=%{y}<extra></extra>",
           "legendgroup": "cs.LG",
           "marker": {
            "color": "#636efa",
            "pattern": {
             "shape": ""
            }
           },
           "name": "cs.LG",
           "nbinsx": 18,
           "offsetgroup": "cs.LG",
           "orientation": "v",
           "showlegend": true,
           "type": "histogram",
           "x": [
            "cs.LG"
           ],
           "xaxis": "x",
           "y": [
            22778
           ],
           "yaxis": "y"
          },
          {
           "alignmentgroup": "True",
           "bingroup": "x",
           "histfunc": "sum",
           "hovertemplate": "Category=%{x}<br>Year=2022<br>sum of Number of Articles=%{y}<extra></extra>",
           "legendgroup": "cs.CV",
           "marker": {
            "color": "#EF553B",
            "pattern": {
             "shape": ""
            }
           },
           "name": "cs.CV",
           "nbinsx": 18,
           "offsetgroup": "cs.CV",
           "orientation": "v",
           "showlegend": true,
           "type": "histogram",
           "x": [
            "cs.CV"
           ],
           "xaxis": "x",
           "y": [
            17139
           ],
           "yaxis": "y"
          },
          {
           "alignmentgroup": "True",
           "bingroup": "x",
           "histfunc": "sum",
           "hovertemplate": "Category=%{x}<br>Year=2022<br>sum of Number of Articles=%{y}<extra></extra>",
           "legendgroup": "cs.AI",
           "marker": {
            "color": "#00cc96",
            "pattern": {
             "shape": ""
            }
           },
           "name": "cs.AI",
           "nbinsx": 18,
           "offsetgroup": "cs.AI",
           "orientation": "v",
           "showlegend": true,
           "type": "histogram",
           "x": [
            "cs.AI"
           ],
           "xaxis": "x",
           "y": [
            13621
           ],
           "yaxis": "y"
          },
          {
           "alignmentgroup": "True",
           "bingroup": "x",
           "histfunc": "sum",
           "hovertemplate": "Category=%{x}<br>Year=2022<br>sum of Number of Articles=%{y}<extra></extra>",
           "legendgroup": "cs.CL",
           "marker": {
            "color": "#ab63fa",
            "pattern": {
             "shape": ""
            }
           },
           "name": "cs.CL",
           "nbinsx": 18,
           "offsetgroup": "cs.CL",
           "orientation": "v",
           "showlegend": true,
           "type": "histogram",
           "x": [
            "cs.CL"
           ],
           "xaxis": "x",
           "y": [
            8704
           ],
           "yaxis": "y"
          },
          {
           "alignmentgroup": "True",
           "bingroup": "x",
           "histfunc": "sum",
           "hovertemplate": "Category=%{x}<br>Year=2022<br>sum of Number of Articles=%{y}<extra></extra>",
           "legendgroup": "cs.RO",
           "marker": {
            "color": "#FFA15A",
            "pattern": {
             "shape": ""
            }
           },
           "name": "cs.RO",
           "nbinsx": 18,
           "offsetgroup": "cs.RO",
           "orientation": "v",
           "showlegend": true,
           "type": "histogram",
           "x": [
            "cs.RO"
           ],
           "xaxis": "x",
           "y": [
            4998
           ],
           "yaxis": "y"
          },
          {
           "alignmentgroup": "True",
           "bingroup": "x",
           "histfunc": "sum",
           "hovertemplate": "Category=%{x}<br>Year=2022<br>sum of Number of Articles=%{y}<extra></extra>",
           "legendgroup": "cs.CR",
           "marker": {
            "color": "#19d3f3",
            "pattern": {
             "shape": ""
            }
           },
           "name": "cs.CR",
           "nbinsx": 18,
           "offsetgroup": "cs.CR",
           "orientation": "v",
           "showlegend": true,
           "type": "histogram",
           "x": [
            "cs.CR"
           ],
           "xaxis": "x",
           "y": [
            4262
           ],
           "yaxis": "y"
          },
          {
           "alignmentgroup": "True",
           "bingroup": "x",
           "histfunc": "sum",
           "hovertemplate": "Category=%{x}<br>Year=2022<br>sum of Number of Articles=%{y}<extra></extra>",
           "legendgroup": "math.IT",
           "marker": {
            "color": "#FF6692",
            "pattern": {
             "shape": ""
            }
           },
           "name": "math.IT",
           "nbinsx": 18,
           "offsetgroup": "math.IT",
           "orientation": "v",
           "showlegend": true,
           "type": "histogram",
           "x": [
            "math.IT"
           ],
           "xaxis": "x",
           "y": [
            2934
           ],
           "yaxis": "y"
          },
          {
           "alignmentgroup": "True",
           "bingroup": "x",
           "histfunc": "sum",
           "hovertemplate": "Category=%{x}<br>Year=2022<br>sum of Number of Articles=%{y}<extra></extra>",
           "legendgroup": "cs.IT",
           "marker": {
            "color": "#B6E880",
            "pattern": {
             "shape": ""
            }
           },
           "name": "cs.IT",
           "nbinsx": 18,
           "offsetgroup": "cs.IT",
           "orientation": "v",
           "showlegend": true,
           "type": "histogram",
           "x": [
            "cs.IT"
           ],
           "xaxis": "x",
           "y": [
            2934
           ],
           "yaxis": "y"
          },
          {
           "alignmentgroup": "True",
           "bingroup": "x",
           "histfunc": "sum",
           "hovertemplate": "Category=%{x}<br>Year=2022<br>sum of Number of Articles=%{y}<extra></extra>",
           "legendgroup": "stat.ML",
           "marker": {
            "color": "#FF97FF",
            "pattern": {
             "shape": ""
            }
           },
           "name": "stat.ML",
           "nbinsx": 18,
           "offsetgroup": "stat.ML",
           "orientation": "v",
           "showlegend": true,
           "type": "histogram",
           "x": [
            "stat.ML"
           ],
           "xaxis": "x",
           "y": [
            2425
           ],
           "yaxis": "y"
          },
          {
           "alignmentgroup": "True",
           "bingroup": "x",
           "histfunc": "sum",
           "hovertemplate": "Category=%{x}<br>Year=2022<br>sum of Number of Articles=%{y}<extra></extra>",
           "legendgroup": "cs.HC",
           "marker": {
            "color": "#FECB52",
            "pattern": {
             "shape": ""
            }
           },
           "name": "cs.HC",
           "nbinsx": 18,
           "offsetgroup": "cs.HC",
           "orientation": "v",
           "showlegend": true,
           "type": "histogram",
           "x": [
            "cs.HC"
           ],
           "xaxis": "x",
           "y": [
            2405
           ],
           "yaxis": "y"
          },
          {
           "alignmentgroup": "True",
           "bingroup": "x",
           "histfunc": "sum",
           "hovertemplate": "Category=%{x}<br>Year=2022<br>sum of Number of Articles=%{y}<extra></extra>",
           "legendgroup": "cs.CY",
           "marker": {
            "color": "#636efa",
            "pattern": {
             "shape": ""
            }
           },
           "name": "cs.CY",
           "nbinsx": 18,
           "offsetgroup": "cs.CY",
           "orientation": "v",
           "showlegend": true,
           "type": "histogram",
           "x": [
            "cs.CY"
           ],
           "xaxis": "x",
           "y": [
            2084
           ],
           "yaxis": "y"
          },
          {
           "alignmentgroup": "True",
           "bingroup": "x",
           "histfunc": "sum",
           "hovertemplate": "Category=%{x}<br>Year=2022<br>sum of Number of Articles=%{y}<extra></extra>",
           "legendgroup": "cs.IR",
           "marker": {
            "color": "#EF553B",
            "pattern": {
             "shape": ""
            }
           },
           "name": "cs.IR",
           "nbinsx": 18,
           "offsetgroup": "cs.IR",
           "orientation": "v",
           "showlegend": true,
           "type": "histogram",
           "x": [
            "cs.IR"
           ],
           "xaxis": "x",
           "y": [
            2082
           ],
           "yaxis": "y"
          },
          {
           "alignmentgroup": "True",
           "bingroup": "x",
           "histfunc": "sum",
           "hovertemplate": "Category=%{x}<br>Year=2022<br>sum of Number of Articles=%{y}<extra></extra>",
           "legendgroup": "cs.DC",
           "marker": {
            "color": "#00cc96",
            "pattern": {
             "shape": ""
            }
           },
           "name": "cs.DC",
           "nbinsx": 18,
           "offsetgroup": "cs.DC",
           "orientation": "v",
           "showlegend": true,
           "type": "histogram",
           "x": [
            "cs.DC"
           ],
           "xaxis": "x",
           "y": [
            2081
           ],
           "yaxis": "y"
          },
          {
           "alignmentgroup": "True",
           "bingroup": "x",
           "histfunc": "sum",
           "hovertemplate": "Category=%{x}<br>Year=2022<br>sum of Number of Articles=%{y}<extra></extra>",
           "legendgroup": "cs.SE",
           "marker": {
            "color": "#ab63fa",
            "pattern": {
             "shape": ""
            }
           },
           "name": "cs.SE",
           "nbinsx": 18,
           "offsetgroup": "cs.SE",
           "orientation": "v",
           "showlegend": true,
           "type": "histogram",
           "x": [
            "cs.SE"
           ],
           "xaxis": "x",
           "y": [
            1970
           ],
           "yaxis": "y"
          },
          {
           "alignmentgroup": "True",
           "bingroup": "x",
           "histfunc": "sum",
           "hovertemplate": "Category=%{x}<br>Year=2022<br>sum of Number of Articles=%{y}<extra></extra>",
           "legendgroup": "cs.NI",
           "marker": {
            "color": "#FFA15A",
            "pattern": {
             "shape": ""
            }
           },
           "name": "cs.NI",
           "nbinsx": 18,
           "offsetgroup": "cs.NI",
           "orientation": "v",
           "showlegend": true,
           "type": "histogram",
           "x": [
            "cs.NI"
           ],
           "xaxis": "x",
           "y": [
            1827
           ],
           "yaxis": "y"
          }
         ],
         "name": "2022"
        },
        {
         "data": [
          {
           "alignmentgroup": "True",
           "bingroup": "x",
           "histfunc": "sum",
           "hovertemplate": "Category=%{x}<br>Year=2021<br>sum of Number of Articles=%{y}<extra></extra>",
           "legendgroup": "cs.LG",
           "marker": {
            "color": "#636efa",
            "pattern": {
             "shape": ""
            }
           },
           "name": "cs.LG",
           "nbinsx": 18,
           "offsetgroup": "cs.LG",
           "orientation": "v",
           "showlegend": true,
           "type": "histogram",
           "x": [
            "cs.LG"
           ],
           "xaxis": "x",
           "y": [
            21238
           ],
           "yaxis": "y"
          },
          {
           "alignmentgroup": "True",
           "bingroup": "x",
           "histfunc": "sum",
           "hovertemplate": "Category=%{x}<br>Year=2021<br>sum of Number of Articles=%{y}<extra></extra>",
           "legendgroup": "cs.CV",
           "marker": {
            "color": "#EF553B",
            "pattern": {
             "shape": ""
            }
           },
           "name": "cs.CV",
           "nbinsx": 18,
           "offsetgroup": "cs.CV",
           "orientation": "v",
           "showlegend": true,
           "type": "histogram",
           "x": [
            "cs.CV"
           ],
           "xaxis": "x",
           "y": [
            14977
           ],
           "yaxis": "y"
          },
          {
           "alignmentgroup": "True",
           "bingroup": "x",
           "histfunc": "sum",
           "hovertemplate": "Category=%{x}<br>Year=2021<br>sum of Number of Articles=%{y}<extra></extra>",
           "legendgroup": "cs.AI",
           "marker": {
            "color": "#00cc96",
            "pattern": {
             "shape": ""
            }
           },
           "name": "cs.AI",
           "nbinsx": 18,
           "offsetgroup": "cs.AI",
           "orientation": "v",
           "showlegend": true,
           "type": "histogram",
           "x": [
            "cs.AI"
           ],
           "xaxis": "x",
           "y": [
            11696
           ],
           "yaxis": "y"
          },
          {
           "alignmentgroup": "True",
           "bingroup": "x",
           "histfunc": "sum",
           "hovertemplate": "Category=%{x}<br>Year=2021<br>sum of Number of Articles=%{y}<extra></extra>",
           "legendgroup": "cs.CL",
           "marker": {
            "color": "#ab63fa",
            "pattern": {
             "shape": ""
            }
           },
           "name": "cs.CL",
           "nbinsx": 18,
           "offsetgroup": "cs.CL",
           "orientation": "v",
           "showlegend": true,
           "type": "histogram",
           "x": [
            "cs.CL"
           ],
           "xaxis": "x",
           "y": [
            7860
           ],
           "yaxis": "y"
          },
          {
           "alignmentgroup": "True",
           "bingroup": "x",
           "histfunc": "sum",
           "hovertemplate": "Category=%{x}<br>Year=2021<br>sum of Number of Articles=%{y}<extra></extra>",
           "legendgroup": "cs.RO",
           "marker": {
            "color": "#FFA15A",
            "pattern": {
             "shape": ""
            }
           },
           "name": "cs.RO",
           "nbinsx": 18,
           "offsetgroup": "cs.RO",
           "orientation": "v",
           "showlegend": true,
           "type": "histogram",
           "x": [
            "cs.RO"
           ],
           "xaxis": "x",
           "y": [
            4486
           ],
           "yaxis": "y"
          },
          {
           "alignmentgroup": "True",
           "bingroup": "x",
           "histfunc": "sum",
           "hovertemplate": "Category=%{x}<br>Year=2021<br>sum of Number of Articles=%{y}<extra></extra>",
           "legendgroup": "cs.CR",
           "marker": {
            "color": "#19d3f3",
            "pattern": {
             "shape": ""
            }
           },
           "name": "cs.CR",
           "nbinsx": 18,
           "offsetgroup": "cs.CR",
           "orientation": "v",
           "showlegend": true,
           "type": "histogram",
           "x": [
            "cs.CR"
           ],
           "xaxis": "x",
           "y": [
            3778
           ],
           "yaxis": "y"
          },
          {
           "alignmentgroup": "True",
           "bingroup": "x",
           "histfunc": "sum",
           "hovertemplate": "Category=%{x}<br>Year=2021<br>sum of Number of Articles=%{y}<extra></extra>",
           "legendgroup": "math.IT",
           "marker": {
            "color": "#FF6692",
            "pattern": {
             "shape": ""
            }
           },
           "name": "math.IT",
           "nbinsx": 18,
           "offsetgroup": "math.IT",
           "orientation": "v",
           "showlegend": true,
           "type": "histogram",
           "x": [
            "math.IT"
           ],
           "xaxis": "x",
           "y": [
            3036
           ],
           "yaxis": "y"
          },
          {
           "alignmentgroup": "True",
           "bingroup": "x",
           "histfunc": "sum",
           "hovertemplate": "Category=%{x}<br>Year=2021<br>sum of Number of Articles=%{y}<extra></extra>",
           "legendgroup": "cs.IT",
           "marker": {
            "color": "#B6E880",
            "pattern": {
             "shape": ""
            }
           },
           "name": "cs.IT",
           "nbinsx": 18,
           "offsetgroup": "cs.IT",
           "orientation": "v",
           "showlegend": true,
           "type": "histogram",
           "x": [
            "cs.IT"
           ],
           "xaxis": "x",
           "y": [
            3036
           ],
           "yaxis": "y"
          },
          {
           "alignmentgroup": "True",
           "bingroup": "x",
           "histfunc": "sum",
           "hovertemplate": "Category=%{x}<br>Year=2021<br>sum of Number of Articles=%{y}<extra></extra>",
           "legendgroup": "stat.ML",
           "marker": {
            "color": "#FF97FF",
            "pattern": {
             "shape": ""
            }
           },
           "name": "stat.ML",
           "nbinsx": 18,
           "offsetgroup": "stat.ML",
           "orientation": "v",
           "showlegend": true,
           "type": "histogram",
           "x": [
            "stat.ML"
           ],
           "xaxis": "x",
           "y": [
            2737
           ],
           "yaxis": "y"
          },
          {
           "alignmentgroup": "True",
           "bingroup": "x",
           "histfunc": "sum",
           "hovertemplate": "Category=%{x}<br>Year=2021<br>sum of Number of Articles=%{y}<extra></extra>",
           "legendgroup": "cs.HC",
           "marker": {
            "color": "#FECB52",
            "pattern": {
             "shape": ""
            }
           },
           "name": "cs.HC",
           "nbinsx": 18,
           "offsetgroup": "cs.HC",
           "orientation": "v",
           "showlegend": true,
           "type": "histogram",
           "x": [
            "cs.HC"
           ],
           "xaxis": "x",
           "y": [
            2114
           ],
           "yaxis": "y"
          },
          {
           "alignmentgroup": "True",
           "bingroup": "x",
           "histfunc": "sum",
           "hovertemplate": "Category=%{x}<br>Year=2021<br>sum of Number of Articles=%{y}<extra></extra>",
           "legendgroup": "cs.CY",
           "marker": {
            "color": "#636efa",
            "pattern": {
             "shape": ""
            }
           },
           "name": "cs.CY",
           "nbinsx": 18,
           "offsetgroup": "cs.CY",
           "orientation": "v",
           "showlegend": true,
           "type": "histogram",
           "x": [
            "cs.CY"
           ],
           "xaxis": "x",
           "y": [
            2146
           ],
           "yaxis": "y"
          },
          {
           "alignmentgroup": "True",
           "bingroup": "x",
           "histfunc": "sum",
           "hovertemplate": "Category=%{x}<br>Year=2021<br>sum of Number of Articles=%{y}<extra></extra>",
           "legendgroup": "cs.IR",
           "marker": {
            "color": "#EF553B",
            "pattern": {
             "shape": ""
            }
           },
           "name": "cs.IR",
           "nbinsx": 18,
           "offsetgroup": "cs.IR",
           "orientation": "v",
           "showlegend": true,
           "type": "histogram",
           "x": [
            "cs.IR"
           ],
           "xaxis": "x",
           "y": [
            1999
           ],
           "yaxis": "y"
          },
          {
           "alignmentgroup": "True",
           "bingroup": "x",
           "histfunc": "sum",
           "hovertemplate": "Category=%{x}<br>Year=2021<br>sum of Number of Articles=%{y}<extra></extra>",
           "legendgroup": "cs.DC",
           "marker": {
            "color": "#00cc96",
            "pattern": {
             "shape": ""
            }
           },
           "name": "cs.DC",
           "nbinsx": 18,
           "offsetgroup": "cs.DC",
           "orientation": "v",
           "showlegend": true,
           "type": "histogram",
           "x": [
            "cs.DC"
           ],
           "xaxis": "x",
           "y": [
            2207
           ],
           "yaxis": "y"
          },
          {
           "alignmentgroup": "True",
           "bingroup": "x",
           "histfunc": "sum",
           "hovertemplate": "Category=%{x}<br>Year=2021<br>sum of Number of Articles=%{y}<extra></extra>",
           "legendgroup": "cs.SE",
           "marker": {
            "color": "#ab63fa",
            "pattern": {
             "shape": ""
            }
           },
           "name": "cs.SE",
           "nbinsx": 18,
           "offsetgroup": "cs.SE",
           "orientation": "v",
           "showlegend": true,
           "type": "histogram",
           "x": [
            "cs.SE"
           ],
           "xaxis": "x",
           "y": [
            2151
           ],
           "yaxis": "y"
          },
          {
           "alignmentgroup": "True",
           "bingroup": "x",
           "histfunc": "sum",
           "hovertemplate": "Category=%{x}<br>Year=2021<br>sum of Number of Articles=%{y}<extra></extra>",
           "legendgroup": "cs.NI",
           "marker": {
            "color": "#FFA15A",
            "pattern": {
             "shape": ""
            }
           },
           "name": "cs.NI",
           "nbinsx": 18,
           "offsetgroup": "cs.NI",
           "orientation": "v",
           "showlegend": true,
           "type": "histogram",
           "x": [
            "cs.NI"
           ],
           "xaxis": "x",
           "y": [
            1880
           ],
           "yaxis": "y"
          }
         ],
         "name": "2021"
        },
        {
         "data": [
          {
           "alignmentgroup": "True",
           "bingroup": "x",
           "histfunc": "sum",
           "hovertemplate": "Category=%{x}<br>Year=2020<br>sum of Number of Articles=%{y}<extra></extra>",
           "legendgroup": "cs.LG",
           "marker": {
            "color": "#636efa",
            "pattern": {
             "shape": ""
            }
           },
           "name": "cs.LG",
           "nbinsx": 18,
           "offsetgroup": "cs.LG",
           "orientation": "v",
           "showlegend": true,
           "type": "histogram",
           "x": [
            "cs.LG"
           ],
           "xaxis": "x",
           "y": [
            19807
           ],
           "yaxis": "y"
          },
          {
           "alignmentgroup": "True",
           "bingroup": "x",
           "histfunc": "sum",
           "hovertemplate": "Category=%{x}<br>Year=2020<br>sum of Number of Articles=%{y}<extra></extra>",
           "legendgroup": "cs.CV",
           "marker": {
            "color": "#EF553B",
            "pattern": {
             "shape": ""
            }
           },
           "name": "cs.CV",
           "nbinsx": 18,
           "offsetgroup": "cs.CV",
           "orientation": "v",
           "showlegend": true,
           "type": "histogram",
           "x": [
            "cs.CV"
           ],
           "xaxis": "x",
           "y": [
            13112
           ],
           "yaxis": "y"
          },
          {
           "alignmentgroup": "True",
           "bingroup": "x",
           "histfunc": "sum",
           "hovertemplate": "Category=%{x}<br>Year=2020<br>sum of Number of Articles=%{y}<extra></extra>",
           "legendgroup": "cs.AI",
           "marker": {
            "color": "#00cc96",
            "pattern": {
             "shape": ""
            }
           },
           "name": "cs.AI",
           "nbinsx": 18,
           "offsetgroup": "cs.AI",
           "orientation": "v",
           "showlegend": true,
           "type": "histogram",
           "x": [
            "cs.AI"
           ],
           "xaxis": "x",
           "y": [
            6986
           ],
           "yaxis": "y"
          },
          {
           "alignmentgroup": "True",
           "bingroup": "x",
           "histfunc": "sum",
           "hovertemplate": "Category=%{x}<br>Year=2020<br>sum of Number of Articles=%{y}<extra></extra>",
           "legendgroup": "cs.CL",
           "marker": {
            "color": "#ab63fa",
            "pattern": {
             "shape": ""
            }
           },
           "name": "cs.CL",
           "nbinsx": 18,
           "offsetgroup": "cs.CL",
           "orientation": "v",
           "showlegend": true,
           "type": "histogram",
           "x": [
            "cs.CL"
           ],
           "xaxis": "x",
           "y": [
            6783
           ],
           "yaxis": "y"
          },
          {
           "alignmentgroup": "True",
           "bingroup": "x",
           "histfunc": "sum",
           "hovertemplate": "Category=%{x}<br>Year=2020<br>sum of Number of Articles=%{y}<extra></extra>",
           "legendgroup": "cs.RO",
           "marker": {
            "color": "#FFA15A",
            "pattern": {
             "shape": ""
            }
           },
           "name": "cs.RO",
           "nbinsx": 18,
           "offsetgroup": "cs.RO",
           "orientation": "v",
           "showlegend": true,
           "type": "histogram",
           "x": [
            "cs.RO"
           ],
           "xaxis": "x",
           "y": [
            3704
           ],
           "yaxis": "y"
          },
          {
           "alignmentgroup": "True",
           "bingroup": "x",
           "histfunc": "sum",
           "hovertemplate": "Category=%{x}<br>Year=2020<br>sum of Number of Articles=%{y}<extra></extra>",
           "legendgroup": "cs.CR",
           "marker": {
            "color": "#19d3f3",
            "pattern": {
             "shape": ""
            }
           },
           "name": "cs.CR",
           "nbinsx": 18,
           "offsetgroup": "cs.CR",
           "orientation": "v",
           "showlegend": true,
           "type": "histogram",
           "x": [
            "cs.CR"
           ],
           "xaxis": "x",
           "y": [
            3470
           ],
           "yaxis": "y"
          },
          {
           "alignmentgroup": "True",
           "bingroup": "x",
           "histfunc": "sum",
           "hovertemplate": "Category=%{x}<br>Year=2020<br>sum of Number of Articles=%{y}<extra></extra>",
           "legendgroup": "math.IT",
           "marker": {
            "color": "#FF6692",
            "pattern": {
             "shape": ""
            }
           },
           "name": "math.IT",
           "nbinsx": 18,
           "offsetgroup": "math.IT",
           "orientation": "v",
           "showlegend": true,
           "type": "histogram",
           "x": [
            "math.IT"
           ],
           "xaxis": "x",
           "y": [
            2795
           ],
           "yaxis": "y"
          },
          {
           "alignmentgroup": "True",
           "bingroup": "x",
           "histfunc": "sum",
           "hovertemplate": "Category=%{x}<br>Year=2020<br>sum of Number of Articles=%{y}<extra></extra>",
           "legendgroup": "cs.IT",
           "marker": {
            "color": "#B6E880",
            "pattern": {
             "shape": ""
            }
           },
           "name": "cs.IT",
           "nbinsx": 18,
           "offsetgroup": "cs.IT",
           "orientation": "v",
           "showlegend": true,
           "type": "histogram",
           "x": [
            "cs.IT"
           ],
           "xaxis": "x",
           "y": [
            2795
           ],
           "yaxis": "y"
          },
          {
           "alignmentgroup": "True",
           "bingroup": "x",
           "histfunc": "sum",
           "hovertemplate": "Category=%{x}<br>Year=2020<br>sum of Number of Articles=%{y}<extra></extra>",
           "legendgroup": "stat.ML",
           "marker": {
            "color": "#FF97FF",
            "pattern": {
             "shape": ""
            }
           },
           "name": "stat.ML",
           "nbinsx": 18,
           "offsetgroup": "stat.ML",
           "orientation": "v",
           "showlegend": true,
           "type": "histogram",
           "x": [
            "stat.ML"
           ],
           "xaxis": "x",
           "y": [
            9169
           ],
           "yaxis": "y"
          },
          {
           "alignmentgroup": "True",
           "bingroup": "x",
           "histfunc": "sum",
           "hovertemplate": "Category=%{x}<br>Year=2020<br>sum of Number of Articles=%{y}<extra></extra>",
           "legendgroup": "cs.CY",
           "marker": {
            "color": "#636efa",
            "pattern": {
             "shape": ""
            }
           },
           "name": "cs.CY",
           "nbinsx": 18,
           "offsetgroup": "cs.CY",
           "orientation": "v",
           "showlegend": true,
           "type": "histogram",
           "x": [
            "cs.CY"
           ],
           "xaxis": "x",
           "y": [
            2274
           ],
           "yaxis": "y"
          },
          {
           "alignmentgroup": "True",
           "bingroup": "x",
           "histfunc": "sum",
           "hovertemplate": "Category=%{x}<br>Year=2020<br>sum of Number of Articles=%{y}<extra></extra>",
           "legendgroup": "cs.IR",
           "marker": {
            "color": "#EF553B",
            "pattern": {
             "shape": ""
            }
           },
           "name": "cs.IR",
           "nbinsx": 18,
           "offsetgroup": "cs.IR",
           "orientation": "v",
           "showlegend": true,
           "type": "histogram",
           "x": [
            "cs.IR"
           ],
           "xaxis": "x",
           "y": [
            1948
           ],
           "yaxis": "y"
          },
          {
           "alignmentgroup": "True",
           "bingroup": "x",
           "histfunc": "sum",
           "hovertemplate": "Category=%{x}<br>Year=2020<br>sum of Number of Articles=%{y}<extra></extra>",
           "legendgroup": "cs.DC",
           "marker": {
            "color": "#00cc96",
            "pattern": {
             "shape": ""
            }
           },
           "name": "cs.DC",
           "nbinsx": 18,
           "offsetgroup": "cs.DC",
           "orientation": "v",
           "showlegend": true,
           "type": "histogram",
           "x": [
            "cs.DC"
           ],
           "xaxis": "x",
           "y": [
            2243
           ],
           "yaxis": "y"
          },
          {
           "alignmentgroup": "True",
           "bingroup": "x",
           "histfunc": "sum",
           "hovertemplate": "Category=%{x}<br>Year=2020<br>sum of Number of Articles=%{y}<extra></extra>",
           "legendgroup": "cs.NI",
           "marker": {
            "color": "#FFA15A",
            "pattern": {
             "shape": ""
            }
           },
           "name": "cs.NI",
           "nbinsx": 18,
           "offsetgroup": "cs.NI",
           "orientation": "v",
           "showlegend": true,
           "type": "histogram",
           "x": [
            "cs.NI"
           ],
           "xaxis": "x",
           "y": [
            1860
           ],
           "yaxis": "y"
          },
          {
           "alignmentgroup": "True",
           "bingroup": "x",
           "histfunc": "sum",
           "hovertemplate": "Category=%{x}<br>Year=2020<br>sum of Number of Articles=%{y}<extra></extra>",
           "legendgroup": "cs.DS",
           "marker": {
            "color": "#19d3f3",
            "pattern": {
             "shape": ""
            }
           },
           "name": "cs.DS",
           "nbinsx": 18,
           "offsetgroup": "cs.DS",
           "orientation": "v",
           "showlegend": true,
           "type": "histogram",
           "x": [
            "cs.DS"
           ],
           "xaxis": "x",
           "y": [
            2034
           ],
           "yaxis": "y"
          },
          {
           "alignmentgroup": "True",
           "bingroup": "x",
           "histfunc": "sum",
           "hovertemplate": "Category=%{x}<br>Year=2020<br>sum of Number of Articles=%{y}<extra></extra>",
           "legendgroup": "cs.SI",
           "marker": {
            "color": "#FF6692",
            "pattern": {
             "shape": ""
            }
           },
           "name": "cs.SI",
           "nbinsx": 18,
           "offsetgroup": "cs.SI",
           "orientation": "v",
           "showlegend": true,
           "type": "histogram",
           "x": [
            "cs.SI"
           ],
           "xaxis": "x",
           "y": [
            1959
           ],
           "yaxis": "y"
          }
         ],
         "name": "2020"
        },
        {
         "data": [
          {
           "alignmentgroup": "True",
           "bingroup": "x",
           "histfunc": "sum",
           "hovertemplate": "Category=%{x}<br>Year=2019<br>sum of Number of Articles=%{y}<extra></extra>",
           "legendgroup": "cs.LG",
           "marker": {
            "color": "#636efa",
            "pattern": {
             "shape": ""
            }
           },
           "name": "cs.LG",
           "nbinsx": 18,
           "offsetgroup": "cs.LG",
           "orientation": "v",
           "showlegend": true,
           "type": "histogram",
           "x": [
            "cs.LG"
           ],
           "xaxis": "x",
           "y": [
            15101
           ],
           "yaxis": "y"
          },
          {
           "alignmentgroup": "True",
           "bingroup": "x",
           "histfunc": "sum",
           "hovertemplate": "Category=%{x}<br>Year=2019<br>sum of Number of Articles=%{y}<extra></extra>",
           "legendgroup": "cs.CV",
           "marker": {
            "color": "#EF553B",
            "pattern": {
             "shape": ""
            }
           },
           "name": "cs.CV",
           "nbinsx": 18,
           "offsetgroup": "cs.CV",
           "orientation": "v",
           "showlegend": true,
           "type": "histogram",
           "x": [
            "cs.CV"
           ],
           "xaxis": "x",
           "y": [
            10260
           ],
           "yaxis": "y"
          },
          {
           "alignmentgroup": "True",
           "bingroup": "x",
           "histfunc": "sum",
           "hovertemplate": "Category=%{x}<br>Year=2019<br>sum of Number of Articles=%{y}<extra></extra>",
           "legendgroup": "cs.AI",
           "marker": {
            "color": "#00cc96",
            "pattern": {
             "shape": ""
            }
           },
           "name": "cs.AI",
           "nbinsx": 18,
           "offsetgroup": "cs.AI",
           "orientation": "v",
           "showlegend": true,
           "type": "histogram",
           "x": [
            "cs.AI"
           ],
           "xaxis": "x",
           "y": [
            4512
           ],
           "yaxis": "y"
          },
          {
           "alignmentgroup": "True",
           "bingroup": "x",
           "histfunc": "sum",
           "hovertemplate": "Category=%{x}<br>Year=2019<br>sum of Number of Articles=%{y}<extra></extra>",
           "legendgroup": "cs.CL",
           "marker": {
            "color": "#ab63fa",
            "pattern": {
             "shape": ""
            }
           },
           "name": "cs.CL",
           "nbinsx": 18,
           "offsetgroup": "cs.CL",
           "orientation": "v",
           "showlegend": true,
           "type": "histogram",
           "x": [
            "cs.CL"
           ],
           "xaxis": "x",
           "y": [
            5214
           ],
           "yaxis": "y"
          },
          {
           "alignmentgroup": "True",
           "bingroup": "x",
           "histfunc": "sum",
           "hovertemplate": "Category=%{x}<br>Year=2019<br>sum of Number of Articles=%{y}<extra></extra>",
           "legendgroup": "cs.RO",
           "marker": {
            "color": "#FFA15A",
            "pattern": {
             "shape": ""
            }
           },
           "name": "cs.RO",
           "nbinsx": 18,
           "offsetgroup": "cs.RO",
           "orientation": "v",
           "showlegend": true,
           "type": "histogram",
           "x": [
            "cs.RO"
           ],
           "xaxis": "x",
           "y": [
            2722
           ],
           "yaxis": "y"
          },
          {
           "alignmentgroup": "True",
           "bingroup": "x",
           "histfunc": "sum",
           "hovertemplate": "Category=%{x}<br>Year=2019<br>sum of Number of Articles=%{y}<extra></extra>",
           "legendgroup": "cs.CR",
           "marker": {
            "color": "#19d3f3",
            "pattern": {
             "shape": ""
            }
           },
           "name": "cs.CR",
           "nbinsx": 18,
           "offsetgroup": "cs.CR",
           "orientation": "v",
           "showlegend": true,
           "type": "histogram",
           "x": [
            "cs.CR"
           ],
           "xaxis": "x",
           "y": [
            2835
           ],
           "yaxis": "y"
          },
          {
           "alignmentgroup": "True",
           "bingroup": "x",
           "histfunc": "sum",
           "hovertemplate": "Category=%{x}<br>Year=2019<br>sum of Number of Articles=%{y}<extra></extra>",
           "legendgroup": "math.IT",
           "marker": {
            "color": "#FF6692",
            "pattern": {
             "shape": ""
            }
           },
           "name": "math.IT",
           "nbinsx": 18,
           "offsetgroup": "math.IT",
           "orientation": "v",
           "showlegend": true,
           "type": "histogram",
           "x": [
            "math.IT"
           ],
           "xaxis": "x",
           "y": [
            2595
           ],
           "yaxis": "y"
          },
          {
           "alignmentgroup": "True",
           "bingroup": "x",
           "histfunc": "sum",
           "hovertemplate": "Category=%{x}<br>Year=2019<br>sum of Number of Articles=%{y}<extra></extra>",
           "legendgroup": "cs.IT",
           "marker": {
            "color": "#B6E880",
            "pattern": {
             "shape": ""
            }
           },
           "name": "cs.IT",
           "nbinsx": 18,
           "offsetgroup": "cs.IT",
           "orientation": "v",
           "showlegend": true,
           "type": "histogram",
           "x": [
            "cs.IT"
           ],
           "xaxis": "x",
           "y": [
            2595
           ],
           "yaxis": "y"
          },
          {
           "alignmentgroup": "True",
           "bingroup": "x",
           "histfunc": "sum",
           "hovertemplate": "Category=%{x}<br>Year=2019<br>sum of Number of Articles=%{y}<extra></extra>",
           "legendgroup": "stat.ML",
           "marker": {
            "color": "#FF97FF",
            "pattern": {
             "shape": ""
            }
           },
           "name": "stat.ML",
           "nbinsx": 18,
           "offsetgroup": "stat.ML",
           "orientation": "v",
           "showlegend": true,
           "type": "histogram",
           "x": [
            "stat.ML"
           ],
           "xaxis": "x",
           "y": [
            9543
           ],
           "yaxis": "y"
          },
          {
           "alignmentgroup": "True",
           "bingroup": "x",
           "histfunc": "sum",
           "hovertemplate": "Category=%{x}<br>Year=2019<br>sum of Number of Articles=%{y}<extra></extra>",
           "legendgroup": "cs.HC",
           "marker": {
            "color": "#FECB52",
            "pattern": {
             "shape": ""
            }
           },
           "name": "cs.HC",
           "nbinsx": 18,
           "offsetgroup": "cs.HC",
           "orientation": "v",
           "showlegend": true,
           "type": "histogram",
           "x": [
            "cs.HC"
           ],
           "xaxis": "x",
           "y": [
            1361
           ],
           "yaxis": "y"
          },
          {
           "alignmentgroup": "True",
           "bingroup": "x",
           "histfunc": "sum",
           "hovertemplate": "Category=%{x}<br>Year=2019<br>sum of Number of Articles=%{y}<extra></extra>",
           "legendgroup": "cs.IR",
           "marker": {
            "color": "#EF553B",
            "pattern": {
             "shape": ""
            }
           },
           "name": "cs.IR",
           "nbinsx": 18,
           "offsetgroup": "cs.IR",
           "orientation": "v",
           "showlegend": true,
           "type": "histogram",
           "x": [
            "cs.IR"
           ],
           "xaxis": "x",
           "y": [
            1587
           ],
           "yaxis": "y"
          },
          {
           "alignmentgroup": "True",
           "bingroup": "x",
           "histfunc": "sum",
           "hovertemplate": "Category=%{x}<br>Year=2019<br>sum of Number of Articles=%{y}<extra></extra>",
           "legendgroup": "cs.DC",
           "marker": {
            "color": "#00cc96",
            "pattern": {
             "shape": ""
            }
           },
           "name": "cs.DC",
           "nbinsx": 18,
           "offsetgroup": "cs.DC",
           "orientation": "v",
           "showlegend": true,
           "type": "histogram",
           "x": [
            "cs.DC"
           ],
           "xaxis": "x",
           "y": [
            1903
           ],
           "yaxis": "y"
          },
          {
           "alignmentgroup": "True",
           "bingroup": "x",
           "histfunc": "sum",
           "hovertemplate": "Category=%{x}<br>Year=2019<br>sum of Number of Articles=%{y}<extra></extra>",
           "legendgroup": "cs.NI",
           "marker": {
            "color": "#FFA15A",
            "pattern": {
             "shape": ""
            }
           },
           "name": "cs.NI",
           "nbinsx": 18,
           "offsetgroup": "cs.NI",
           "orientation": "v",
           "showlegend": true,
           "type": "histogram",
           "x": [
            "cs.NI"
           ],
           "xaxis": "x",
           "y": [
            1706
           ],
           "yaxis": "y"
          },
          {
           "alignmentgroup": "True",
           "bingroup": "x",
           "histfunc": "sum",
           "hovertemplate": "Category=%{x}<br>Year=2019<br>sum of Number of Articles=%{y}<extra></extra>",
           "legendgroup": "cs.DS",
           "marker": {
            "color": "#19d3f3",
            "pattern": {
             "shape": ""
            }
           },
           "name": "cs.DS",
           "nbinsx": 18,
           "offsetgroup": "cs.DS",
           "orientation": "v",
           "showlegend": true,
           "type": "histogram",
           "x": [
            "cs.DS"
           ],
           "xaxis": "x",
           "y": [
            1836
           ],
           "yaxis": "y"
          },
          {
           "alignmentgroup": "True",
           "bingroup": "x",
           "histfunc": "sum",
           "hovertemplate": "Category=%{x}<br>Year=2019<br>sum of Number of Articles=%{y}<extra></extra>",
           "legendgroup": "cs.SI",
           "marker": {
            "color": "#FF6692",
            "pattern": {
             "shape": ""
            }
           },
           "name": "cs.SI",
           "nbinsx": 18,
           "offsetgroup": "cs.SI",
           "orientation": "v",
           "showlegend": true,
           "type": "histogram",
           "x": [
            "cs.SI"
           ],
           "xaxis": "x",
           "y": [
            1443
           ],
           "yaxis": "y"
          }
         ],
         "name": "2019"
        },
        {
         "data": [
          {
           "alignmentgroup": "True",
           "bingroup": "x",
           "histfunc": "sum",
           "hovertemplate": "Category=%{x}<br>Year=2018<br>sum of Number of Articles=%{y}<extra></extra>",
           "legendgroup": "cs.LG",
           "marker": {
            "color": "#636efa",
            "pattern": {
             "shape": ""
            }
           },
           "name": "cs.LG",
           "nbinsx": 18,
           "offsetgroup": "cs.LG",
           "orientation": "v",
           "showlegend": true,
           "type": "histogram",
           "x": [
            "cs.LG"
           ],
           "xaxis": "x",
           "y": [
            7882
           ],
           "yaxis": "y"
          },
          {
           "alignmentgroup": "True",
           "bingroup": "x",
           "histfunc": "sum",
           "hovertemplate": "Category=%{x}<br>Year=2018<br>sum of Number of Articles=%{y}<extra></extra>",
           "legendgroup": "cs.CV",
           "marker": {
            "color": "#EF553B",
            "pattern": {
             "shape": ""
            }
           },
           "name": "cs.CV",
           "nbinsx": 18,
           "offsetgroup": "cs.CV",
           "orientation": "v",
           "showlegend": true,
           "type": "histogram",
           "x": [
            "cs.CV"
           ],
           "xaxis": "x",
           "y": [
            8229
           ],
           "yaxis": "y"
          },
          {
           "alignmentgroup": "True",
           "bingroup": "x",
           "histfunc": "sum",
           "hovertemplate": "Category=%{x}<br>Year=2018<br>sum of Number of Articles=%{y}<extra></extra>",
           "legendgroup": "cs.AI",
           "marker": {
            "color": "#00cc96",
            "pattern": {
             "shape": ""
            }
           },
           "name": "cs.AI",
           "nbinsx": 18,
           "offsetgroup": "cs.AI",
           "orientation": "v",
           "showlegend": true,
           "type": "histogram",
           "x": [
            "cs.AI"
           ],
           "xaxis": "x",
           "y": [
            3990
           ],
           "yaxis": "y"
          },
          {
           "alignmentgroup": "True",
           "bingroup": "x",
           "histfunc": "sum",
           "hovertemplate": "Category=%{x}<br>Year=2018<br>sum of Number of Articles=%{y}<extra></extra>",
           "legendgroup": "cs.CL",
           "marker": {
            "color": "#ab63fa",
            "pattern": {
             "shape": ""
            }
           },
           "name": "cs.CL",
           "nbinsx": 18,
           "offsetgroup": "cs.CL",
           "orientation": "v",
           "showlegend": true,
           "type": "histogram",
           "x": [
            "cs.CL"
           ],
           "xaxis": "x",
           "y": [
            3603
           ],
           "yaxis": "y"
          },
          {
           "alignmentgroup": "True",
           "bingroup": "x",
           "histfunc": "sum",
           "hovertemplate": "Category=%{x}<br>Year=2018<br>sum of Number of Articles=%{y}<extra></extra>",
           "legendgroup": "cs.RO",
           "marker": {
            "color": "#FFA15A",
            "pattern": {
             "shape": ""
            }
           },
           "name": "cs.RO",
           "nbinsx": 18,
           "offsetgroup": "cs.RO",
           "orientation": "v",
           "showlegend": true,
           "type": "histogram",
           "x": [
            "cs.RO"
           ],
           "xaxis": "x",
           "y": [
            1797
           ],
           "yaxis": "y"
          },
          {
           "alignmentgroup": "True",
           "bingroup": "x",
           "histfunc": "sum",
           "hovertemplate": "Category=%{x}<br>Year=2018<br>sum of Number of Articles=%{y}<extra></extra>",
           "legendgroup": "cs.CR",
           "marker": {
            "color": "#19d3f3",
            "pattern": {
             "shape": ""
            }
           },
           "name": "cs.CR",
           "nbinsx": 18,
           "offsetgroup": "cs.CR",
           "orientation": "v",
           "showlegend": true,
           "type": "histogram",
           "x": [
            "cs.CR"
           ],
           "xaxis": "x",
           "y": [
            2143
           ],
           "yaxis": "y"
          },
          {
           "alignmentgroup": "True",
           "bingroup": "x",
           "histfunc": "sum",
           "hovertemplate": "Category=%{x}<br>Year=2018<br>sum of Number of Articles=%{y}<extra></extra>",
           "legendgroup": "math.IT",
           "marker": {
            "color": "#FF6692",
            "pattern": {
             "shape": ""
            }
           },
           "name": "math.IT",
           "nbinsx": 18,
           "offsetgroup": "math.IT",
           "orientation": "v",
           "showlegend": true,
           "type": "histogram",
           "x": [
            "math.IT"
           ],
           "xaxis": "x",
           "y": [
            2682
           ],
           "yaxis": "y"
          },
          {
           "alignmentgroup": "True",
           "bingroup": "x",
           "histfunc": "sum",
           "hovertemplate": "Category=%{x}<br>Year=2018<br>sum of Number of Articles=%{y}<extra></extra>",
           "legendgroup": "cs.IT",
           "marker": {
            "color": "#B6E880",
            "pattern": {
             "shape": ""
            }
           },
           "name": "cs.IT",
           "nbinsx": 18,
           "offsetgroup": "cs.IT",
           "orientation": "v",
           "showlegend": true,
           "type": "histogram",
           "x": [
            "cs.IT"
           ],
           "xaxis": "x",
           "y": [
            2682
           ],
           "yaxis": "y"
          },
          {
           "alignmentgroup": "True",
           "bingroup": "x",
           "histfunc": "sum",
           "hovertemplate": "Category=%{x}<br>Year=2018<br>sum of Number of Articles=%{y}<extra></extra>",
           "legendgroup": "stat.ML",
           "marker": {
            "color": "#FF97FF",
            "pattern": {
             "shape": ""
            }
           },
           "name": "stat.ML",
           "nbinsx": 18,
           "offsetgroup": "stat.ML",
           "orientation": "v",
           "showlegend": true,
           "type": "histogram",
           "x": [
            "stat.ML"
           ],
           "xaxis": "x",
           "y": [
            5613
           ],
           "yaxis": "y"
          },
          {
           "alignmentgroup": "True",
           "bingroup": "x",
           "histfunc": "sum",
           "hovertemplate": "Category=%{x}<br>Year=2018<br>sum of Number of Articles=%{y}<extra></extra>",
           "legendgroup": "cs.CY",
           "marker": {
            "color": "#636efa",
            "pattern": {
             "shape": ""
            }
           },
           "name": "cs.CY",
           "nbinsx": 18,
           "offsetgroup": "cs.CY",
           "orientation": "v",
           "showlegend": true,
           "type": "histogram",
           "x": [
            "cs.CY"
           ],
           "xaxis": "x",
           "y": [
            1241
           ],
           "yaxis": "y"
          },
          {
           "alignmentgroup": "True",
           "bingroup": "x",
           "histfunc": "sum",
           "hovertemplate": "Category=%{x}<br>Year=2018<br>sum of Number of Articles=%{y}<extra></extra>",
           "legendgroup": "cs.DC",
           "marker": {
            "color": "#00cc96",
            "pattern": {
             "shape": ""
            }
           },
           "name": "cs.DC",
           "nbinsx": 18,
           "offsetgroup": "cs.DC",
           "orientation": "v",
           "showlegend": true,
           "type": "histogram",
           "x": [
            "cs.DC"
           ],
           "xaxis": "x",
           "y": [
            1480
           ],
           "yaxis": "y"
          },
          {
           "alignmentgroup": "True",
           "bingroup": "x",
           "histfunc": "sum",
           "hovertemplate": "Category=%{x}<br>Year=2018<br>sum of Number of Articles=%{y}<extra></extra>",
           "legendgroup": "cs.NI",
           "marker": {
            "color": "#FFA15A",
            "pattern": {
             "shape": ""
            }
           },
           "name": "cs.NI",
           "nbinsx": 18,
           "offsetgroup": "cs.NI",
           "orientation": "v",
           "showlegend": true,
           "type": "histogram",
           "x": [
            "cs.NI"
           ],
           "xaxis": "x",
           "y": [
            1532
           ],
           "yaxis": "y"
          },
          {
           "alignmentgroup": "True",
           "bingroup": "x",
           "histfunc": "sum",
           "hovertemplate": "Category=%{x}<br>Year=2018<br>sum of Number of Articles=%{y}<extra></extra>",
           "legendgroup": "cs.DS",
           "marker": {
            "color": "#19d3f3",
            "pattern": {
             "shape": ""
            }
           },
           "name": "cs.DS",
           "nbinsx": 18,
           "offsetgroup": "cs.DS",
           "orientation": "v",
           "showlegend": true,
           "type": "histogram",
           "x": [
            "cs.DS"
           ],
           "xaxis": "x",
           "y": [
            1612
           ],
           "yaxis": "y"
          },
          {
           "alignmentgroup": "True",
           "bingroup": "x",
           "histfunc": "sum",
           "hovertemplate": "Category=%{x}<br>Year=2018<br>sum of Number of Articles=%{y}<extra></extra>",
           "legendgroup": "cs.SI",
           "marker": {
            "color": "#FF6692",
            "pattern": {
             "shape": ""
            }
           },
           "name": "cs.SI",
           "nbinsx": 18,
           "offsetgroup": "cs.SI",
           "orientation": "v",
           "showlegend": true,
           "type": "histogram",
           "x": [
            "cs.SI"
           ],
           "xaxis": "x",
           "y": [
            1201
           ],
           "yaxis": "y"
          },
          {
           "alignmentgroup": "True",
           "bingroup": "x",
           "histfunc": "sum",
           "hovertemplate": "Category=%{x}<br>Year=2018<br>sum of Number of Articles=%{y}<extra></extra>",
           "legendgroup": "cs.SY",
           "marker": {
            "color": "#B6E880",
            "pattern": {
             "shape": ""
            }
           },
           "name": "cs.SY",
           "nbinsx": 18,
           "offsetgroup": "cs.SY",
           "orientation": "v",
           "showlegend": true,
           "type": "histogram",
           "x": [
            "cs.SY"
           ],
           "xaxis": "x",
           "y": [
            1281
           ],
           "yaxis": "y"
          }
         ],
         "name": "2018"
        }
       ],
       "layout": {
        "barmode": "relative",
        "legend": {
         "title": {
          "text": "Category"
         },
         "tracegroupgap": 0
        },
        "margin": {
         "t": 60
        },
        "sliders": [
         {
          "active": 0,
          "currentvalue": {
           "prefix": "Year="
          },
          "len": 0.9,
          "pad": {
           "b": 10,
           "t": 60
          },
          "steps": [
           {
            "args": [
             [
              "2022"
             ],
             {
              "frame": {
               "duration": 0,
               "redraw": true
              },
              "fromcurrent": true,
              "mode": "immediate",
              "transition": {
               "duration": 0,
               "easing": "linear"
              }
             }
            ],
            "label": "2022",
            "method": "animate"
           },
           {
            "args": [
             [
              "2021"
             ],
             {
              "frame": {
               "duration": 0,
               "redraw": true
              },
              "fromcurrent": true,
              "mode": "immediate",
              "transition": {
               "duration": 0,
               "easing": "linear"
              }
             }
            ],
            "label": "2021",
            "method": "animate"
           },
           {
            "args": [
             [
              "2020"
             ],
             {
              "frame": {
               "duration": 0,
               "redraw": true
              },
              "fromcurrent": true,
              "mode": "immediate",
              "transition": {
               "duration": 0,
               "easing": "linear"
              }
             }
            ],
            "label": "2020",
            "method": "animate"
           },
           {
            "args": [
             [
              "2019"
             ],
             {
              "frame": {
               "duration": 0,
               "redraw": true
              },
              "fromcurrent": true,
              "mode": "immediate",
              "transition": {
               "duration": 0,
               "easing": "linear"
              }
             }
            ],
            "label": "2019",
            "method": "animate"
           },
           {
            "args": [
             [
              "2018"
             ],
             {
              "frame": {
               "duration": 0,
               "redraw": true
              },
              "fromcurrent": true,
              "mode": "immediate",
              "transition": {
               "duration": 0,
               "easing": "linear"
              }
             }
            ],
            "label": "2018",
            "method": "animate"
           }
          ],
          "x": 0.1,
          "xanchor": "left",
          "y": 0,
          "yanchor": "top"
         }
        ],
        "template": {
         "data": {
          "bar": [
           {
            "error_x": {
             "color": "#2a3f5f"
            },
            "error_y": {
             "color": "#2a3f5f"
            },
            "marker": {
             "line": {
              "color": "#E5ECF6",
              "width": 0.5
             },
             "pattern": {
              "fillmode": "overlay",
              "size": 10,
              "solidity": 0.2
             }
            },
            "type": "bar"
           }
          ],
          "barpolar": [
           {
            "marker": {
             "line": {
              "color": "#E5ECF6",
              "width": 0.5
             },
             "pattern": {
              "fillmode": "overlay",
              "size": 10,
              "solidity": 0.2
             }
            },
            "type": "barpolar"
           }
          ],
          "carpet": [
           {
            "aaxis": {
             "endlinecolor": "#2a3f5f",
             "gridcolor": "white",
             "linecolor": "white",
             "minorgridcolor": "white",
             "startlinecolor": "#2a3f5f"
            },
            "baxis": {
             "endlinecolor": "#2a3f5f",
             "gridcolor": "white",
             "linecolor": "white",
             "minorgridcolor": "white",
             "startlinecolor": "#2a3f5f"
            },
            "type": "carpet"
           }
          ],
          "choropleth": [
           {
            "colorbar": {
             "outlinewidth": 0,
             "ticks": ""
            },
            "type": "choropleth"
           }
          ],
          "contour": [
           {
            "colorbar": {
             "outlinewidth": 0,
             "ticks": ""
            },
            "colorscale": [
             [
              0,
              "#0d0887"
             ],
             [
              0.1111111111111111,
              "#46039f"
             ],
             [
              0.2222222222222222,
              "#7201a8"
             ],
             [
              0.3333333333333333,
              "#9c179e"
             ],
             [
              0.4444444444444444,
              "#bd3786"
             ],
             [
              0.5555555555555556,
              "#d8576b"
             ],
             [
              0.6666666666666666,
              "#ed7953"
             ],
             [
              0.7777777777777778,
              "#fb9f3a"
             ],
             [
              0.8888888888888888,
              "#fdca26"
             ],
             [
              1,
              "#f0f921"
             ]
            ],
            "type": "contour"
           }
          ],
          "contourcarpet": [
           {
            "colorbar": {
             "outlinewidth": 0,
             "ticks": ""
            },
            "type": "contourcarpet"
           }
          ],
          "heatmap": [
           {
            "colorbar": {
             "outlinewidth": 0,
             "ticks": ""
            },
            "colorscale": [
             [
              0,
              "#0d0887"
             ],
             [
              0.1111111111111111,
              "#46039f"
             ],
             [
              0.2222222222222222,
              "#7201a8"
             ],
             [
              0.3333333333333333,
              "#9c179e"
             ],
             [
              0.4444444444444444,
              "#bd3786"
             ],
             [
              0.5555555555555556,
              "#d8576b"
             ],
             [
              0.6666666666666666,
              "#ed7953"
             ],
             [
              0.7777777777777778,
              "#fb9f3a"
             ],
             [
              0.8888888888888888,
              "#fdca26"
             ],
             [
              1,
              "#f0f921"
             ]
            ],
            "type": "heatmap"
           }
          ],
          "heatmapgl": [
           {
            "colorbar": {
             "outlinewidth": 0,
             "ticks": ""
            },
            "colorscale": [
             [
              0,
              "#0d0887"
             ],
             [
              0.1111111111111111,
              "#46039f"
             ],
             [
              0.2222222222222222,
              "#7201a8"
             ],
             [
              0.3333333333333333,
              "#9c179e"
             ],
             [
              0.4444444444444444,
              "#bd3786"
             ],
             [
              0.5555555555555556,
              "#d8576b"
             ],
             [
              0.6666666666666666,
              "#ed7953"
             ],
             [
              0.7777777777777778,
              "#fb9f3a"
             ],
             [
              0.8888888888888888,
              "#fdca26"
             ],
             [
              1,
              "#f0f921"
             ]
            ],
            "type": "heatmapgl"
           }
          ],
          "histogram": [
           {
            "marker": {
             "pattern": {
              "fillmode": "overlay",
              "size": 10,
              "solidity": 0.2
             }
            },
            "type": "histogram"
           }
          ],
          "histogram2d": [
           {
            "colorbar": {
             "outlinewidth": 0,
             "ticks": ""
            },
            "colorscale": [
             [
              0,
              "#0d0887"
             ],
             [
              0.1111111111111111,
              "#46039f"
             ],
             [
              0.2222222222222222,
              "#7201a8"
             ],
             [
              0.3333333333333333,
              "#9c179e"
             ],
             [
              0.4444444444444444,
              "#bd3786"
             ],
             [
              0.5555555555555556,
              "#d8576b"
             ],
             [
              0.6666666666666666,
              "#ed7953"
             ],
             [
              0.7777777777777778,
              "#fb9f3a"
             ],
             [
              0.8888888888888888,
              "#fdca26"
             ],
             [
              1,
              "#f0f921"
             ]
            ],
            "type": "histogram2d"
           }
          ],
          "histogram2dcontour": [
           {
            "colorbar": {
             "outlinewidth": 0,
             "ticks": ""
            },
            "colorscale": [
             [
              0,
              "#0d0887"
             ],
             [
              0.1111111111111111,
              "#46039f"
             ],
             [
              0.2222222222222222,
              "#7201a8"
             ],
             [
              0.3333333333333333,
              "#9c179e"
             ],
             [
              0.4444444444444444,
              "#bd3786"
             ],
             [
              0.5555555555555556,
              "#d8576b"
             ],
             [
              0.6666666666666666,
              "#ed7953"
             ],
             [
              0.7777777777777778,
              "#fb9f3a"
             ],
             [
              0.8888888888888888,
              "#fdca26"
             ],
             [
              1,
              "#f0f921"
             ]
            ],
            "type": "histogram2dcontour"
           }
          ],
          "mesh3d": [
           {
            "colorbar": {
             "outlinewidth": 0,
             "ticks": ""
            },
            "type": "mesh3d"
           }
          ],
          "parcoords": [
           {
            "line": {
             "colorbar": {
              "outlinewidth": 0,
              "ticks": ""
             }
            },
            "type": "parcoords"
           }
          ],
          "pie": [
           {
            "automargin": true,
            "type": "pie"
           }
          ],
          "scatter": [
           {
            "fillpattern": {
             "fillmode": "overlay",
             "size": 10,
             "solidity": 0.2
            },
            "type": "scatter"
           }
          ],
          "scatter3d": [
           {
            "line": {
             "colorbar": {
              "outlinewidth": 0,
              "ticks": ""
             }
            },
            "marker": {
             "colorbar": {
              "outlinewidth": 0,
              "ticks": ""
             }
            },
            "type": "scatter3d"
           }
          ],
          "scattercarpet": [
           {
            "marker": {
             "colorbar": {
              "outlinewidth": 0,
              "ticks": ""
             }
            },
            "type": "scattercarpet"
           }
          ],
          "scattergeo": [
           {
            "marker": {
             "colorbar": {
              "outlinewidth": 0,
              "ticks": ""
             }
            },
            "type": "scattergeo"
           }
          ],
          "scattergl": [
           {
            "marker": {
             "colorbar": {
              "outlinewidth": 0,
              "ticks": ""
             }
            },
            "type": "scattergl"
           }
          ],
          "scattermapbox": [
           {
            "marker": {
             "colorbar": {
              "outlinewidth": 0,
              "ticks": ""
             }
            },
            "type": "scattermapbox"
           }
          ],
          "scatterpolar": [
           {
            "marker": {
             "colorbar": {
              "outlinewidth": 0,
              "ticks": ""
             }
            },
            "type": "scatterpolar"
           }
          ],
          "scatterpolargl": [
           {
            "marker": {
             "colorbar": {
              "outlinewidth": 0,
              "ticks": ""
             }
            },
            "type": "scatterpolargl"
           }
          ],
          "scatterternary": [
           {
            "marker": {
             "colorbar": {
              "outlinewidth": 0,
              "ticks": ""
             }
            },
            "type": "scatterternary"
           }
          ],
          "surface": [
           {
            "colorbar": {
             "outlinewidth": 0,
             "ticks": ""
            },
            "colorscale": [
             [
              0,
              "#0d0887"
             ],
             [
              0.1111111111111111,
              "#46039f"
             ],
             [
              0.2222222222222222,
              "#7201a8"
             ],
             [
              0.3333333333333333,
              "#9c179e"
             ],
             [
              0.4444444444444444,
              "#bd3786"
             ],
             [
              0.5555555555555556,
              "#d8576b"
             ],
             [
              0.6666666666666666,
              "#ed7953"
             ],
             [
              0.7777777777777778,
              "#fb9f3a"
             ],
             [
              0.8888888888888888,
              "#fdca26"
             ],
             [
              1,
              "#f0f921"
             ]
            ],
            "type": "surface"
           }
          ],
          "table": [
           {
            "cells": {
             "fill": {
              "color": "#EBF0F8"
             },
             "line": {
              "color": "white"
             }
            },
            "header": {
             "fill": {
              "color": "#C8D4E3"
             },
             "line": {
              "color": "white"
             }
            },
            "type": "table"
           }
          ]
         },
         "layout": {
          "annotationdefaults": {
           "arrowcolor": "#2a3f5f",
           "arrowhead": 0,
           "arrowwidth": 1
          },
          "autotypenumbers": "strict",
          "coloraxis": {
           "colorbar": {
            "outlinewidth": 0,
            "ticks": ""
           }
          },
          "colorscale": {
           "diverging": [
            [
             0,
             "#8e0152"
            ],
            [
             0.1,
             "#c51b7d"
            ],
            [
             0.2,
             "#de77ae"
            ],
            [
             0.3,
             "#f1b6da"
            ],
            [
             0.4,
             "#fde0ef"
            ],
            [
             0.5,
             "#f7f7f7"
            ],
            [
             0.6,
             "#e6f5d0"
            ],
            [
             0.7,
             "#b8e186"
            ],
            [
             0.8,
             "#7fbc41"
            ],
            [
             0.9,
             "#4d9221"
            ],
            [
             1,
             "#276419"
            ]
           ],
           "sequential": [
            [
             0,
             "#0d0887"
            ],
            [
             0.1111111111111111,
             "#46039f"
            ],
            [
             0.2222222222222222,
             "#7201a8"
            ],
            [
             0.3333333333333333,
             "#9c179e"
            ],
            [
             0.4444444444444444,
             "#bd3786"
            ],
            [
             0.5555555555555556,
             "#d8576b"
            ],
            [
             0.6666666666666666,
             "#ed7953"
            ],
            [
             0.7777777777777778,
             "#fb9f3a"
            ],
            [
             0.8888888888888888,
             "#fdca26"
            ],
            [
             1,
             "#f0f921"
            ]
           ],
           "sequentialminus": [
            [
             0,
             "#0d0887"
            ],
            [
             0.1111111111111111,
             "#46039f"
            ],
            [
             0.2222222222222222,
             "#7201a8"
            ],
            [
             0.3333333333333333,
             "#9c179e"
            ],
            [
             0.4444444444444444,
             "#bd3786"
            ],
            [
             0.5555555555555556,
             "#d8576b"
            ],
            [
             0.6666666666666666,
             "#ed7953"
            ],
            [
             0.7777777777777778,
             "#fb9f3a"
            ],
            [
             0.8888888888888888,
             "#fdca26"
            ],
            [
             1,
             "#f0f921"
            ]
           ]
          },
          "colorway": [
           "#636efa",
           "#EF553B",
           "#00cc96",
           "#ab63fa",
           "#FFA15A",
           "#19d3f3",
           "#FF6692",
           "#B6E880",
           "#FF97FF",
           "#FECB52"
          ],
          "font": {
           "color": "#2a3f5f"
          },
          "geo": {
           "bgcolor": "white",
           "lakecolor": "white",
           "landcolor": "#E5ECF6",
           "showlakes": true,
           "showland": true,
           "subunitcolor": "white"
          },
          "hoverlabel": {
           "align": "left"
          },
          "hovermode": "closest",
          "mapbox": {
           "style": "light"
          },
          "paper_bgcolor": "white",
          "plot_bgcolor": "#E5ECF6",
          "polar": {
           "angularaxis": {
            "gridcolor": "white",
            "linecolor": "white",
            "ticks": ""
           },
           "bgcolor": "#E5ECF6",
           "radialaxis": {
            "gridcolor": "white",
            "linecolor": "white",
            "ticks": ""
           }
          },
          "scene": {
           "xaxis": {
            "backgroundcolor": "#E5ECF6",
            "gridcolor": "white",
            "gridwidth": 2,
            "linecolor": "white",
            "showbackground": true,
            "ticks": "",
            "zerolinecolor": "white"
           },
           "yaxis": {
            "backgroundcolor": "#E5ECF6",
            "gridcolor": "white",
            "gridwidth": 2,
            "linecolor": "white",
            "showbackground": true,
            "ticks": "",
            "zerolinecolor": "white"
           },
           "zaxis": {
            "backgroundcolor": "#E5ECF6",
            "gridcolor": "white",
            "gridwidth": 2,
            "linecolor": "white",
            "showbackground": true,
            "ticks": "",
            "zerolinecolor": "white"
           }
          },
          "shapedefaults": {
           "line": {
            "color": "#2a3f5f"
           }
          },
          "ternary": {
           "aaxis": {
            "gridcolor": "white",
            "linecolor": "white",
            "ticks": ""
           },
           "baxis": {
            "gridcolor": "white",
            "linecolor": "white",
            "ticks": ""
           },
           "bgcolor": "#E5ECF6",
           "caxis": {
            "gridcolor": "white",
            "linecolor": "white",
            "ticks": ""
           }
          },
          "title": {
           "x": 0.05
          },
          "xaxis": {
           "automargin": true,
           "gridcolor": "white",
           "linecolor": "white",
           "ticks": "",
           "title": {
            "standoff": 15
           },
           "zerolinecolor": "white",
           "zerolinewidth": 2
          },
          "yaxis": {
           "automargin": true,
           "gridcolor": "white",
           "linecolor": "white",
           "ticks": "",
           "title": {
            "standoff": 15
           },
           "zerolinecolor": "white",
           "zerolinewidth": 2
          }
         }
        },
        "title": {
         "text": "Top 15 Categories by Number of Articles"
        },
        "updatemenus": [
         {
          "buttons": [
           {
            "args": [
             null,
             {
              "frame": {
               "duration": 500,
               "redraw": true
              },
              "fromcurrent": true,
              "mode": "immediate",
              "transition": {
               "duration": 500,
               "easing": "linear"
              }
             }
            ],
            "label": "&#9654;",
            "method": "animate"
           },
           {
            "args": [
             [
              null
             ],
             {
              "frame": {
               "duration": 0,
               "redraw": true
              },
              "fromcurrent": true,
              "mode": "immediate",
              "transition": {
               "duration": 0,
               "easing": "linear"
              }
             }
            ],
            "label": "&#9724;",
            "method": "animate"
           }
          ],
          "direction": "left",
          "pad": {
           "r": 10,
           "t": 70
          },
          "showactive": false,
          "type": "buttons",
          "x": 0.1,
          "xanchor": "right",
          "y": 0,
          "yanchor": "top"
         }
        ],
        "xaxis": {
         "anchor": "y",
         "categoryarray": [
          "cs.LG",
          "cs.CV",
          "cs.AI",
          "cs.CL",
          "cs.RO",
          "cs.CR",
          "math.IT",
          "cs.IT",
          "stat.ML",
          "cs.HC",
          "cs.CY",
          "cs.IR",
          "cs.DC",
          "cs.SE",
          "cs.NI",
          "cs.DS",
          "cs.SI",
          "cs.SY"
         ],
         "categoryorder": "array",
         "domain": [
          0,
          1
         ],
         "title": {
          "text": "Category"
         }
        },
        "yaxis": {
         "anchor": "x",
         "domain": [
          0,
          1
         ],
         "range": [
          0,
          24000
         ],
         "title": {
          "text": "Number of Articles"
         }
        }
       }
      }
     },
     "metadata": {},
     "output_type": "display_data"
    },
    {
     "data": {
      "text/plain": [
       "'https://plotly.com/~tapetrova/56/'"
      ]
     },
     "execution_count": 29,
     "metadata": {},
     "output_type": "execute_result"
    }
   ],
   "source": [
    "import pandas as pd\n",
    "import plotly.express as px\n",
    "\n",
    "# Define the years to loop over\n",
    "years = [2022, 2021, 2020, 2019, 2018]\n",
    "\n",
    "# Create an empty list to store the dataframes for each year\n",
    "dfs = []\n",
    "\n",
    "# Loop over each year\n",
    "for year in years:\n",
    "    # Count the number of articles by category for the current year\n",
    "    category_counts = pd.Series(\n",
    "        cs_articles[cs_articles['year'] == year]['categories'].str.split(expand=True).values.ravel()).value_counts()\n",
    "\n",
    "    # Keep only the top 10 categories\n",
    "    category_counts = category_counts[:15]\n",
    "\n",
    "    # Create a dataframe for the current year\n",
    "    df = pd.DataFrame(\n",
    "        {'Category': category_counts.index, \n",
    "        'Number of Articles': category_counts.values, 'Year': year}\n",
    "        )\n",
    "\n",
    "    # Append the dataframe to the list of dataframes\n",
    "    dfs.append(df)\n",
    "\n",
    "# Concatenate the dataframes into a single dataframe\n",
    "df = pd.concat(dfs, ignore_index=True)\n",
    "\n",
    "# Create an animated histogram using Plotly\n",
    "fig = px.histogram(\n",
    "    df, \n",
    "    x='Category', \n",
    "    y='Number of Articles', \n",
    "    color='Category', \n",
    "    animation_frame='Year', \n",
    "    nbins=len(df['Category'].unique())\n",
    "    )\n",
    "\n",
    "# Set the layout of the plot\n",
    "fig.update_layout(\n",
    "    title='Top 15 Categories by Number of Articles', \n",
    "    xaxis_title='Category', \n",
    "    yaxis_title='Number of Articles', \n",
    "    yaxis=dict(range=[0, 24000])\n",
    "    )\n",
    "\n",
    "fig.show()\n"
   ]
  },
  {
   "cell_type": "code",
   "execution_count": 21,
   "metadata": {},
   "outputs": [
    {
     "name": "stdout",
     "output_type": "stream",
     "text": [
      "Requirement already satisfied: chart_studio in /Users/tapetrova/miniconda3/envs/tensorflow/lib/python3.6/site-packages (1.1.0)\n",
      "Requirement already satisfied: retrying>=1.3.3 in /Users/tapetrova/miniconda3/envs/tensorflow/lib/python3.6/site-packages (from chart_studio) (1.3.4)\n",
      "Requirement already satisfied: six in /Users/tapetrova/miniconda3/envs/tensorflow/lib/python3.6/site-packages (from chart_studio) (1.15.0)\n",
      "Requirement already satisfied: requests in /Users/tapetrova/miniconda3/envs/tensorflow/lib/python3.6/site-packages (from chart_studio) (2.27.1)\n",
      "Requirement already satisfied: plotly in /Users/tapetrova/miniconda3/envs/tensorflow/lib/python3.6/site-packages (from chart_studio) (5.13.1)\n",
      "Requirement already satisfied: tenacity>=6.2.0 in /Users/tapetrova/miniconda3/envs/tensorflow/lib/python3.6/site-packages (from plotly->chart_studio) (8.0.1)\n",
      "Requirement already satisfied: certifi>=2017.4.17 in /Users/tapetrova/miniconda3/envs/tensorflow/lib/python3.6/site-packages (from requests->chart_studio) (2021.5.30)\n",
      "Requirement already satisfied: charset-normalizer~=2.0.0 in /Users/tapetrova/miniconda3/envs/tensorflow/lib/python3.6/site-packages (from requests->chart_studio) (2.0.12)\n",
      "Requirement already satisfied: idna<4,>=2.5 in /Users/tapetrova/miniconda3/envs/tensorflow/lib/python3.6/site-packages (from requests->chart_studio) (3.3)\n",
      "Requirement already satisfied: urllib3<1.27,>=1.21.1 in /Users/tapetrova/miniconda3/envs/tensorflow/lib/python3.6/site-packages (from requests->chart_studio) (1.26.8)\n",
      "Note: you may need to restart the kernel to use updated packages.\n"
     ]
    }
   ],
   "source": [
    "%pip install chart_studio"
   ]
  },
  {
   "cell_type": "code",
   "execution_count": 23,
   "metadata": {},
   "outputs": [],
   "source": [
    "cs_articles.to_csv('cs_articles.csv', sep = \",\")"
   ]
  }
 ],
 "metadata": {
  "kernelspec": {
   "display_name": "tensorflow",
   "language": "python",
   "name": "python3"
  },
  "language_info": {
   "codemirror_mode": {
    "name": "ipython",
    "version": 3
   },
   "file_extension": ".py",
   "mimetype": "text/x-python",
   "name": "python",
   "nbconvert_exporter": "python",
   "pygments_lexer": "ipython3",
   "version": "3.6.8 |Anaconda, Inc.| (default, Dec 29 2018, 19:04:46) \n[GCC 4.2.1 Compatible Clang 4.0.1 (tags/RELEASE_401/final)]"
  },
  "orig_nbformat": 4,
  "vscode": {
   "interpreter": {
    "hash": "675f85f5babffdd628f791003a21bd3a703b901613680c9fab77cd37429f0c6b"
   }
  }
 },
 "nbformat": 4,
 "nbformat_minor": 2
}
